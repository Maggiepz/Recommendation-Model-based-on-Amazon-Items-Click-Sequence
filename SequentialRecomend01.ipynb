{
 "cells": [
  {
   "cell_type": "markdown",
   "id": "2ae05d6a",
   "metadata": {},
   "source": [
    "使用模型：\n",
    "POP、itemKNN、FPMC、GRU4Rec、GCE-GNN"
   ]
  },
  {
   "cell_type": "markdown",
   "id": "be08e33c",
   "metadata": {},
   "source": [
    "数据预处理部分"
   ]
  },
  {
   "cell_type": "code",
   "execution_count": 45,
   "id": "6aff043d",
   "metadata": {},
   "outputs": [],
   "source": [
    "import sys\n",
    "sys.path.append(r'./SequentialRecommend01')\n",
    "import imp"
   ]
  },
  {
   "cell_type": "code",
   "execution_count": 46,
   "id": "fd37a5f5",
   "metadata": {},
   "outputs": [
    {
     "data": {
      "text/plain": [
       "<module 'utils' from './SequentialRecommend01\\\\utils.py'>"
      ]
     },
     "execution_count": 46,
     "metadata": {},
     "output_type": "execute_result"
    }
   ],
   "source": [
    "\"\"\"自定义模块\"\"\"\n",
    "import preprocess\n",
    "import utils\n",
    "\n",
    "import pandas as pd\n",
    "import numpy as np\n",
    "imp.reload(preprocess)\n",
    "imp.reload(utils)"
   ]
  },
  {
   "cell_type": "code",
   "execution_count": 47,
   "id": "019450df",
   "metadata": {},
   "outputs": [],
   "source": [
    "import torch"
   ]
  },
  {
   "cell_type": "code",
   "execution_count": 48,
   "id": "37d39066",
   "metadata": {},
   "outputs": [],
   "source": [
    "df_train_cellphone_ = pd.read_csv(r'./SequentialRecommend01/data/Amazon_Cell/train_sessions.csv')"
   ]
  },
  {
   "cell_type": "code",
   "execution_count": 49,
   "id": "f83d28d6",
   "metadata": {},
   "outputs": [],
   "source": [
    "df_train_cellphone_ = preprocess.generate_users(df_train_cellphone_)"
   ]
  },
  {
   "cell_type": "code",
   "execution_count": 50,
   "id": "8a63b9b2",
   "metadata": {},
   "outputs": [],
   "source": [
    "#import numpy as np\n",
    "train_index = np.random.choice(df_train_cellphone_.index, size = int(df_train_cellphone_.shape[0]*0.85))"
   ]
  },
  {
   "cell_type": "code",
   "execution_count": 51,
   "id": "5c69947a",
   "metadata": {},
   "outputs": [],
   "source": [
    "df_train_cellphone = df_train_cellphone_.loc[train_index, :]\n",
    "df_valid_cellphone = pd.concat([df_train_cellphone_, df_train_cellphone]).drop_duplicates(keep=False)"
   ]
  },
  {
   "cell_type": "code",
   "execution_count": 52,
   "id": "28be87e5",
   "metadata": {},
   "outputs": [],
   "source": [
    "#df_train_cellphone = utils.train_test_split()"
   ]
  },
  {
   "cell_type": "code",
   "execution_count": 53,
   "id": "fb948eaf",
   "metadata": {},
   "outputs": [
    {
     "name": "stdout",
     "output_type": "stream",
     "text": [
      "<class 'pandas.core.frame.DataFrame'>\n",
      "Int64Index: 39178 entries, 38675 to 1214\n",
      "Data columns (total 3 columns):\n",
      " #   Column   Non-Null Count  Dtype \n",
      "---  ------   --------------  ----- \n",
      " 0   session  39178 non-null  object\n",
      " 1   label    39178 non-null  int64 \n",
      " 2   UserId   39178 non-null  int32 \n",
      "dtypes: int32(1), int64(1), object(1)\n",
      "memory usage: 1.0+ MB\n"
     ]
    }
   ],
   "source": [
    "df_train_cellphone.info()"
   ]
  },
  {
   "cell_type": "code",
   "execution_count": 54,
   "id": "0b064a5e",
   "metadata": {},
   "outputs": [],
   "source": [
    "cold_laucher = utils.ColdLauncher().run"
   ]
  },
  {
   "cell_type": "code",
   "execution_count": 55,
   "id": "955a7e78",
   "metadata": {},
   "outputs": [
    {
     "name": "stdout",
     "output_type": "stream",
     "text": [
      "Wall time: 43.8 s\n"
     ]
    }
   ],
   "source": [
    "%%time\n",
    "df_ordered_cellphone = preprocess.ordered(df_train_cellphone_, user_key='UserId')\n",
    "n_items = max(df_ordered_cellphone.itemsId.max()+1, \n",
    "              df_ordered_cellphone.Next.max()+1\n",
    "             )\n",
    "#cellphone_seqs = preprocess.sequence(df_ordered_cellphone, cold_laucher)\n",
    "#cellphone_seqs = preprocess.sequence(df_ordered_cellphone)\n",
    "df_ordered_cellphone = preprocess.ordered(df_train_cellphone, user_key='UserId')\n",
    "cellphone_seqs, cellphone_seqs_next, cellphone_seqs_len, cellphone_max_len  = preprocess.sequence_(df_train_cellphone,\n",
    "                                                                                                  item_key='session')\n",
    "cellphone_graph = preprocess.make_graph(df_ordered_cellphone, weights=True)\n"
   ]
  },
  {
   "cell_type": "code",
   "execution_count": 56,
   "id": "8fef2083",
   "metadata": {},
   "outputs": [
    {
     "name": "stdout",
     "output_type": "stream",
     "text": [
      "Wall time: 1.46 s\n"
     ]
    },
    {
     "data": {
      "text/plain": [
       "\"df_ordered_cellphone = preprocess.ordered(df_train_cellphone,\\n                                          user_key='UserId',\\n                                          neg_item_key='neg_session')\\nneg_cellphone_seqs = preprocess.sequence(df_ordered_cellphone,\\n                                        item_key='Neg_itemsId',\\n                                        next_key='Neg_itemsId_Next')\""
      ]
     },
     "execution_count": 56,
     "metadata": {},
     "output_type": "execute_result"
    }
   ],
   "source": [
    "%%time\n",
    "unique_items = df_ordered_cellphone.itemsId.unique()\n",
    "df_train_cellphone.loc[:,'neg_session'] = df_train_cellphone.apply(lambda x:utils.nagetive_sample(unique_items, \n",
    "                                                                x.session,\n",
    "                                                                [x.label]\n",
    "                                                               ), axis=1)\n",
    "cellphone_seqs_neg = df_train_cellphone.neg_session.tolist()\n",
    "\"\"\"df_ordered_cellphone = preprocess.ordered(df_train_cellphone,\n",
    "                                          user_key='UserId',\n",
    "                                          neg_item_key='neg_session')\n",
    "neg_cellphone_seqs = preprocess.sequence(df_ordered_cellphone,\n",
    "                                        item_key='Neg_itemsId',\n",
    "                                        next_key='Neg_itemsId_Next')\"\"\""
   ]
  },
  {
   "cell_type": "code",
   "execution_count": 57,
   "id": "77592d5e",
   "metadata": {},
   "outputs": [
    {
     "name": "stdout",
     "output_type": "stream",
     "text": [
      "[[4481, 456, 0, 0, 0], [490, 0, 0, 0, 0], [724, 0, 0, 0, 0], [2967, 0, 0, 0, 0], [549, 0, 0, 0, 0], [4305, 6817, 0, 0, 0], [723, 0, 0, 0, 0], [903, 7735, 0, 0, 0], [3977, 0, 0, 0, 0], [2206, 0, 0, 0, 0], [2832, 0, 0, 0, 0], [5742, 137, 2782, 0, 0], [5010, 0, 0, 0, 0], [3213, 1743, 0, 0, 0], [5003, 0, 0, 0, 0], [184, 1848, 0, 0, 0], [1137, 489, 0, 0, 0], [4299, 0, 0, 0, 0], [2955, 7541, 0, 0, 0], [3564, 0, 0, 0, 0]]\n",
      "-------------------\n",
      "[329, 53, 7007, 5579, 1743, 3694, 723, 226, 4823, 3383, 100, 197, 772, 5876, 2150, 1296, 151, 964, 6947, 6727]\n",
      "-------------------\n",
      "[[3344], [7300], [6773], [2639], [536], [4827], [4466], [9582], [4160], [5452], [8353], [2392], [5968], [8677], [608], [4326], [1509], [446], [620], [2246]]\n"
     ]
    }
   ],
   "source": [
    "print(cellphone_seqs[0:20])\n",
    "print('-------------------')\n",
    "print(cellphone_seqs_next[0:20])\n",
    "print('-------------------')\n",
    "print(cellphone_seqs_neg[0:20])"
   ]
  },
  {
   "cell_type": "markdown",
   "id": "7d1ec02c",
   "metadata": {},
   "source": [
    "训练模型"
   ]
  },
  {
   "cell_type": "code",
   "execution_count": 58,
   "id": "68255d86",
   "metadata": {},
   "outputs": [],
   "source": [
    "import torch\n",
    "import torch.optim as optim\n",
    "import torch.nn.functional as F\n",
    "\n",
    "import FPMC"
   ]
  },
  {
   "cell_type": "code",
   "execution_count": 59,
   "id": "6b816d7c",
   "metadata": {},
   "outputs": [],
   "source": [
    "import configparser\n",
    "import os"
   ]
  },
  {
   "cell_type": "code",
   "execution_count": 60,
   "id": "8e3a274d",
   "metadata": {},
   "outputs": [
    {
     "data": {
      "text/plain": [
       "['./SequentialRecommend01/config.ini']"
      ]
     },
     "execution_count": 60,
     "metadata": {},
     "output_type": "execute_result"
    }
   ],
   "source": [
    "config = configparser.ConfigParser()\n",
    "config.read(r'./SequentialRecommend01/config.ini')"
   ]
  },
  {
   "cell_type": "code",
   "execution_count": 61,
   "id": "ea7cf088",
   "metadata": {},
   "outputs": [],
   "source": [
    "model_path = r'./SequentialRecommend01/model'"
   ]
  },
  {
   "cell_type": "markdown",
   "id": "4ca2364a",
   "metadata": {},
   "source": [
    "POP, itemsKNN部分"
   ]
  },
  {
   "cell_type": "code",
   "execution_count": 62,
   "id": "37336ec5",
   "metadata": {},
   "outputs": [],
   "source": [
    "import HOT\n",
    "\n",
    "session_pop = HOT.SessionPop(item_key='itemsId', support_by_key='sessionId')\n",
    "session_pop.fit(df_ordered_cellphone)\n",
    "\n",
    "item_knn = HOT.ItemKNN(session_key='sessionId', item_key='itemsId', time_key='orderId')\n",
    "item_knn.fit(df_ordered_cellphone)\n"
   ]
  },
  {
   "cell_type": "markdown",
   "id": "8e9644f5",
   "metadata": {},
   "source": [
    "GRU4Rec部分"
   ]
  },
  {
   "cell_type": "code",
   "execution_count": 63,
   "id": "ed66476e",
   "metadata": {},
   "outputs": [],
   "source": [
    "import imp"
   ]
  },
  {
   "cell_type": "code",
   "execution_count": 64,
   "id": "1dc22700",
   "metadata": {},
   "outputs": [
    {
     "data": {
      "text/plain": [
       "<module 'GRU4Rec' from './SequentialRecommend01\\\\GRU4Rec.py'>"
      ]
     },
     "execution_count": 64,
     "metadata": {},
     "output_type": "execute_result"
    }
   ],
   "source": [
    "import GRU4Rec\n",
    "imp.reload(GRU4Rec)"
   ]
  },
  {
   "cell_type": "code",
   "execution_count": 65,
   "id": "0482ac34",
   "metadata": {},
   "outputs": [
    {
     "name": "stdout",
     "output_type": "stream",
     "text": [
      "embedding_size 256\n",
      "hidden_size 512\n",
      "loss_type BPR\n",
      "num_layers 2\n",
      "dropout_prob 0.35\n",
      "user_id_field UserId\n",
      "item_id_field itemsId\n",
      "list_suffix _Seq\n",
      "item_list_length_field seq_len\n",
      "next_prefix Next_\n",
      "neg_prefix Neg_\n",
      "max_item_list_length max_len\n"
     ]
    }
   ],
   "source": [
    "GRU_config = config['GRU4REC']\n",
    "for k, v in SEQ_config.items():\n",
    "    GRU_config[k] = v\n",
    "for k, v in GRU_config.items():\n",
    "    print(k , v)"
   ]
  },
  {
   "cell_type": "code",
   "execution_count": 66,
   "id": "5ce9456f",
   "metadata": {},
   "outputs": [
    {
     "data": {
      "text/plain": [
       "'GRU_config_new = {}\\nfor k, v in GRU_config.items():\\n    try:\\n        GRU_config_new[k.upper()] = int(v)\\n        print(k)\\n        continue\\n    except:\\n        pass\\n    try:\\n        GRU_config_new[k.upper()] = float(v)\\n        print(k)\\n        continue\\n    except:\\n        pass\\n    GRU_config_new[k.upper()] = v'"
      ]
     },
     "execution_count": 66,
     "metadata": {},
     "output_type": "execute_result"
    }
   ],
   "source": [
    "\n",
    "\"\"\"GRU_config_new = {}\n",
    "for k, v in GRU_config.items():\n",
    "    try:\n",
    "        GRU_config_new[k.upper()] = int(v)\n",
    "        print(k)\n",
    "        continue\n",
    "    except:\n",
    "        pass\n",
    "    try:\n",
    "        GRU_config_new[k.upper()] = float(v)\n",
    "        print(k)\n",
    "        continue\n",
    "    except:\n",
    "        pass\n",
    "    GRU_config_new[k.upper()] = v\"\"\""
   ]
  },
  {
   "cell_type": "code",
   "execution_count": 67,
   "id": "529651b7",
   "metadata": {},
   "outputs": [
    {
     "name": "stdout",
     "output_type": "stream",
     "text": [
      "39178\n",
      "39178\n",
      "39178\n",
      "39178\n"
     ]
    }
   ],
   "source": [
    "print(len(cellphone_seqs))\n",
    "print(len(cellphone_seqs_len))\n",
    "print(len(cellphone_seqs_next))\n",
    "print(len(cellphone_seqs_neg))"
   ]
  },
  {
   "cell_type": "code",
   "execution_count": 68,
   "id": "64b36f5f",
   "metadata": {},
   "outputs": [],
   "source": [
    "cellphone_seqs = utils.to_tensor(cellphone_seqs)\n",
    "cellphone_seqs_len = utils.to_tensor(cellphone_seqs_len).unsqueeze(1)\n",
    "cellphone_seqs_next = utils.to_tensor(cellphone_seqs_next).unsqueeze(1)\n",
    "cellphone_seqs_neg = utils.to_tensor(cellphone_seqs_neg)"
   ]
  },
  {
   "cell_type": "code",
   "execution_count": 69,
   "id": "da7ecf00",
   "metadata": {},
   "outputs": [],
   "source": [
    "session_id = list(range(len(cellphone_seqs)))\n",
    "#session_id = utils.to_tensor(session_id)"
   ]
  },
  {
   "cell_type": "code",
   "execution_count": 70,
   "id": "fae0f7a5",
   "metadata": {},
   "outputs": [],
   "source": [
    "Interaction_GRU_all = []\n",
    "item_seqs_name = GRU_config['ITEM_ID_FIELD'] + GRU_config['LIST_SUFFIX']\n",
    "next_item_seqs_name = GRU_config['NEXT_PREFIX'] + GRU_config['ITEM_ID_FIELD']\n",
    "negative_seqs_name = GRU_config['NEG_PREFIX'] + GRU_config['ITEM_ID_FIELD']\n",
    "#for session_batch in utils.batch_loader(session_id, int(BASE_config['batch_size'])):\n",
    "for session_batch in utils.batch_loader(session_id, 128):\n",
    "    session_batch = utils.to_tensor(session_batch)\n",
    "    Interaction_GRU = {}\n",
    "    Interaction_GRU[item_seqs_name] = cellphone_seqs[session_batch]\n",
    "    Interaction_GRU[GRU_config['item_list_length_field']] = cellphone_seqs_len[session_batch]\n",
    "    Interaction_GRU[next_item_seqs_name] = cellphone_seqs_next[session_batch]\n",
    "    Interaction_GRU[negative_seqs_name] = cellphone_seqs_neg[session_batch]\n",
    "    Interaction_GRU_all.append(Interaction_GRU)"
   ]
  },
  {
   "cell_type": "code",
   "execution_count": 71,
   "id": "6aa4b980",
   "metadata": {},
   "outputs": [],
   "source": [
    "GRU_config['device'] = 'cuda:0'"
   ]
  },
  {
   "cell_type": "code",
   "execution_count": 72,
   "id": "57961b3e",
   "metadata": {},
   "outputs": [],
   "source": [
    "device = torch.device('cuda:0' if torch.cuda.is_available() else 'cpu')"
   ]
  },
  {
   "cell_type": "code",
   "execution_count": 73,
   "id": "91d3d9c4",
   "metadata": {},
   "outputs": [],
   "source": [
    "GRU_config['loss_type '] = 'CE'"
   ]
  },
  {
   "cell_type": "code",
   "execution_count": 74,
   "id": "0a87a507",
   "metadata": {
    "scrolled": true
   },
   "outputs": [
    {
     "name": "stdout",
     "output_type": "stream",
     "text": [
      "epoch 1:  loss:  tensor(0.5941, device='cuda:0', grad_fn=<DivBackward0>)\n",
      "epoch 2:  loss:  tensor(0.3994, device='cuda:0', grad_fn=<DivBackward0>)\n",
      "epoch 3:  loss:  tensor(0.3544, device='cuda:0', grad_fn=<DivBackward0>)\n",
      "epoch 4:  loss:  tensor(0.3345, device='cuda:0', grad_fn=<DivBackward0>)\n",
      "epoch 5:  loss:  tensor(0.3185, device='cuda:0', grad_fn=<DivBackward0>)\n",
      "epoch 6:  loss:  tensor(0.3064, device='cuda:0', grad_fn=<DivBackward0>)\n",
      "epoch 7:  loss:  tensor(0.2892, device='cuda:0', grad_fn=<DivBackward0>)\n",
      "epoch 8:  loss:  tensor(0.2765, device='cuda:0', grad_fn=<DivBackward0>)\n",
      "epoch 9:  loss:  tensor(0.2658, device='cuda:0', grad_fn=<DivBackward0>)\n",
      "epoch 10:  loss:  tensor(0.2570, device='cuda:0', grad_fn=<DivBackward0>)\n",
      "epoch 11:  loss:  tensor(0.2517, device='cuda:0', grad_fn=<DivBackward0>)\n",
      "epoch 12:  loss:  tensor(0.2498, device='cuda:0', grad_fn=<DivBackward0>)\n",
      "epoch 13:  loss:  tensor(0.2460, device='cuda:0', grad_fn=<DivBackward0>)\n",
      "epoch 14:  loss:  tensor(0.2443, device='cuda:0', grad_fn=<DivBackward0>)\n",
      "epoch 15:  loss:  tensor(0.2435, device='cuda:0', grad_fn=<DivBackward0>)\n",
      "epoch 16:  loss:  tensor(0.2420, device='cuda:0', grad_fn=<DivBackward0>)\n",
      "epoch 17:  loss:  tensor(0.2391, device='cuda:0', grad_fn=<DivBackward0>)\n",
      "epoch 18:  loss:  tensor(0.2355, device='cuda:0', grad_fn=<DivBackward0>)\n",
      "epoch 19:  loss:  tensor(0.2323, device='cuda:0', grad_fn=<DivBackward0>)\n",
      "epoch 20:  loss:  tensor(0.2273, device='cuda:0', grad_fn=<DivBackward0>)\n",
      "epoch 21:  loss:  tensor(0.2259, device='cuda:0', grad_fn=<DivBackward0>)\n",
      "epoch 22:  loss:  tensor(0.2155, device='cuda:0', grad_fn=<DivBackward0>)\n",
      "epoch 23:  loss:  tensor(0.2144, device='cuda:0', grad_fn=<DivBackward0>)\n",
      "epoch 24:  loss:  tensor(0.2061, device='cuda:0', grad_fn=<DivBackward0>)\n",
      "epoch 25:  loss:  tensor(0.2094, device='cuda:0', grad_fn=<DivBackward0>)\n",
      "epoch 26:  loss:  tensor(0.2033, device='cuda:0', grad_fn=<DivBackward0>)\n",
      "epoch 27:  loss:  tensor(0.2013, device='cuda:0', grad_fn=<DivBackward0>)\n",
      "epoch 28:  loss:  tensor(0.1994, device='cuda:0', grad_fn=<DivBackward0>)\n",
      "epoch 29:  loss:  tensor(0.1944, device='cuda:0', grad_fn=<DivBackward0>)\n",
      "epoch 30:  loss:  tensor(0.1948, device='cuda:0', grad_fn=<DivBackward0>)\n",
      "epoch 31:  loss:  tensor(0.1947, device='cuda:0', grad_fn=<DivBackward0>)\n",
      "epoch 32:  loss:  tensor(0.1904, device='cuda:0', grad_fn=<DivBackward0>)\n",
      "epoch 33:  loss:  tensor(0.1905, device='cuda:0', grad_fn=<DivBackward0>)\n",
      "epoch 34:  loss:  tensor(0.1934, device='cuda:0', grad_fn=<DivBackward0>)\n",
      "epoch 35:  loss:  tensor(0.1899, device='cuda:0', grad_fn=<DivBackward0>)\n",
      "epoch 36:  loss:  tensor(0.1900, device='cuda:0', grad_fn=<DivBackward0>)\n",
      "epoch 37:  loss:  tensor(0.1847, device='cuda:0', grad_fn=<DivBackward0>)\n",
      "epoch 38:  loss:  tensor(0.1868, device='cuda:0', grad_fn=<DivBackward0>)\n",
      "epoch 39:  loss:  tensor(0.1887, device='cuda:0', grad_fn=<DivBackward0>)\n",
      "epoch 40:  loss:  tensor(0.1884, device='cuda:0', grad_fn=<DivBackward0>)\n",
      "epoch 41:  loss:  tensor(0.1886, device='cuda:0', grad_fn=<DivBackward0>)\n",
      "epoch 42:  loss:  tensor(0.1821, device='cuda:0', grad_fn=<DivBackward0>)\n",
      "epoch 43:  loss:  tensor(0.1853, device='cuda:0', grad_fn=<DivBackward0>)\n",
      "epoch 44:  loss:  tensor(0.1847, device='cuda:0', grad_fn=<DivBackward0>)\n",
      "epoch 45:  loss:  tensor(0.1825, device='cuda:0', grad_fn=<DivBackward0>)\n",
      "epoch 46:  loss:  tensor(0.1818, device='cuda:0', grad_fn=<DivBackward0>)\n",
      "epoch 47:  loss:  tensor(0.1793, device='cuda:0', grad_fn=<DivBackward0>)\n",
      "epoch 48:  loss:  tensor(0.1775, device='cuda:0', grad_fn=<DivBackward0>)\n",
      "epoch 49:  loss:  tensor(0.1749, device='cuda:0', grad_fn=<DivBackward0>)\n",
      "epoch 50:  loss:  tensor(0.1640, device='cuda:0', grad_fn=<DivBackward0>)\n",
      "epoch 51:  loss:  tensor(0.1549, device='cuda:0', grad_fn=<DivBackward0>)\n",
      "epoch 52:  loss:  tensor(0.1454, device='cuda:0', grad_fn=<DivBackward0>)\n",
      "epoch 53:  loss:  tensor(0.1395, device='cuda:0', grad_fn=<DivBackward0>)\n",
      "epoch 54:  loss:  tensor(0.1382, device='cuda:0', grad_fn=<DivBackward0>)\n",
      "epoch 55:  loss:  tensor(0.1368, device='cuda:0', grad_fn=<DivBackward0>)\n",
      "epoch 56:  loss:  tensor(0.1400, device='cuda:0', grad_fn=<DivBackward0>)\n",
      "epoch 57:  loss:  tensor(0.1386, device='cuda:0', grad_fn=<DivBackward0>)\n",
      "epoch 58:  loss:  tensor(0.1373, device='cuda:0', grad_fn=<DivBackward0>)\n",
      "epoch 59:  loss:  tensor(0.1360, device='cuda:0', grad_fn=<DivBackward0>)\n",
      "epoch 60:  loss:  tensor(0.1329, device='cuda:0', grad_fn=<DivBackward0>)\n",
      "epoch 61:  loss:  tensor(0.1320, device='cuda:0', grad_fn=<DivBackward0>)\n",
      "epoch 62:  loss:  tensor(0.1325, device='cuda:0', grad_fn=<DivBackward0>)\n",
      "epoch 63:  loss:  tensor(0.1372, device='cuda:0', grad_fn=<DivBackward0>)\n",
      "epoch 64:  loss:  tensor(0.1358, device='cuda:0', grad_fn=<DivBackward0>)\n",
      "epoch 65:  loss:  tensor(0.1395, device='cuda:0', grad_fn=<DivBackward0>)\n",
      "epoch 66:  loss:  tensor(0.1415, device='cuda:0', grad_fn=<DivBackward0>)\n",
      "epoch 67:  loss:  tensor(0.1408, device='cuda:0', grad_fn=<DivBackward0>)\n",
      "epoch 68:  loss:  tensor(0.1442, device='cuda:0', grad_fn=<DivBackward0>)\n",
      "epoch 69:  loss:  tensor(0.1483, device='cuda:0', grad_fn=<DivBackward0>)\n",
      "epoch 70:  loss:  tensor(0.1539, device='cuda:0', grad_fn=<DivBackward0>)\n",
      "epoch 71:  loss:  tensor(0.1536, device='cuda:0', grad_fn=<DivBackward0>)\n",
      "epoch 72:  loss:  tensor(0.1537, device='cuda:0', grad_fn=<DivBackward0>)\n",
      "epoch 73:  loss:  tensor(0.1560, device='cuda:0', grad_fn=<DivBackward0>)\n",
      "epoch 74:  loss:  tensor(0.1567, device='cuda:0', grad_fn=<DivBackward0>)\n",
      "epoch 75:  loss:  tensor(0.1592, device='cuda:0', grad_fn=<DivBackward0>)\n",
      "epoch 76:  loss:  tensor(0.1605, device='cuda:0', grad_fn=<DivBackward0>)\n",
      "epoch 77:  loss:  tensor(0.1603, device='cuda:0', grad_fn=<DivBackward0>)\n",
      "epoch 78:  loss:  tensor(0.1587, device='cuda:0', grad_fn=<DivBackward0>)\n",
      "epoch 79:  loss:  tensor(0.1601, device='cuda:0', grad_fn=<DivBackward0>)\n",
      "epoch 80:  loss:  tensor(0.1560, device='cuda:0', grad_fn=<DivBackward0>)\n"
     ]
    }
   ],
   "source": [
    "GRU_model = GRU4Rec.GRU4Rec(GRU_config, df_ordered_cellphone).to(device)\n",
    "optimizer = optim.Adam(GRU_model.parameters(), lr = 0.0002)\n",
    "GRU_model.train()\n",
    "for i in range(80):\n",
    "    loss_ = 0\n",
    "    #count = 0\n",
    "    for batch in Interaction_GRU_all:\n",
    "        items_seqs = batch[item_seqs_name]\n",
    "        items_seqs_len = batch[GRU_config['item_list_length_field']]\n",
    "        #batch[next_item_seqs_name] = items_next\n",
    "        #batch[negative_seqs_name] = neg_next\n",
    "        GRU_model(items_seqs, items_seqs_len)\n",
    "        loss = GRU_model.calculate_loss(batch)\n",
    "        loss_+=loss\n",
    "        #count+=1\n",
    "        optimizer.zero_grad()\n",
    "        loss.backward()\n",
    "        optimizer.step()\n",
    "    if i>0 and (i+1)%5 == 0:\n",
    "        torch.save(GRU_model, os.path.join(model_path, 'GRU_{}.pth'.format(i+1)))\n",
    "    print(f'epoch {i+1}: ', 'loss: ', loss_/len(Interaction_GRU_all))"
   ]
  },
  {
   "cell_type": "markdown",
   "id": "858b38ba",
   "metadata": {},
   "source": [
    "SRGNN部分"
   ]
  },
  {
   "cell_type": "code",
   "execution_count": 75,
   "id": "64ad8301",
   "metadata": {},
   "outputs": [
    {
     "data": {
      "text/plain": [
       "<module 'SRGNN' from './SequentialRecommend01\\\\SRGNN.py'>"
      ]
     },
     "execution_count": 75,
     "metadata": {},
     "output_type": "execute_result"
    }
   ],
   "source": [
    "import SRGNN\n",
    "imp.reload(SRGNN)"
   ]
  },
  {
   "cell_type": "code",
   "execution_count": 76,
   "id": "53a681c9",
   "metadata": {},
   "outputs": [],
   "source": [
    "GRU_config['step'] = '1'"
   ]
  },
  {
   "cell_type": "code",
   "execution_count": 77,
   "id": "7eee7d59",
   "metadata": {
    "scrolled": true
   },
   "outputs": [
    {
     "name": "stdout",
     "output_type": "stream",
     "text": [
      "epoch 1:  loss:  tensor(0.5676, device='cuda:0', grad_fn=<DivBackward0>)\n",
      "epoch 2:  loss:  tensor(0.3970, device='cuda:0', grad_fn=<DivBackward0>)\n",
      "epoch 3:  loss:  tensor(0.3486, device='cuda:0', grad_fn=<DivBackward0>)\n",
      "epoch 4:  loss:  tensor(0.3112, device='cuda:0', grad_fn=<DivBackward0>)\n",
      "epoch 5:  loss:  tensor(0.2783, device='cuda:0', grad_fn=<DivBackward0>)\n",
      "epoch 6:  loss:  tensor(0.2653, device='cuda:0', grad_fn=<DivBackward0>)\n",
      "epoch 7:  loss:  tensor(0.2708, device='cuda:0', grad_fn=<DivBackward0>)\n",
      "epoch 8:  loss:  tensor(0.2414, device='cuda:0', grad_fn=<DivBackward0>)\n",
      "epoch 9:  loss:  tensor(0.2190, device='cuda:0', grad_fn=<DivBackward0>)\n",
      "epoch 10:  loss:  tensor(0.1919, device='cuda:0', grad_fn=<DivBackward0>)\n",
      "epoch 11:  loss:  tensor(0.1954, device='cuda:0', grad_fn=<DivBackward0>)\n",
      "epoch 12:  loss:  tensor(0.1785, device='cuda:0', grad_fn=<DivBackward0>)\n",
      "epoch 13:  loss:  tensor(0.1650, device='cuda:0', grad_fn=<DivBackward0>)\n",
      "epoch 14:  loss:  tensor(0.1604, device='cuda:0', grad_fn=<DivBackward0>)\n",
      "epoch 15:  loss:  tensor(0.1614, device='cuda:0', grad_fn=<DivBackward0>)\n",
      "epoch 16:  loss:  tensor(0.1540, device='cuda:0', grad_fn=<DivBackward0>)\n",
      "epoch 17:  loss:  tensor(0.1442, device='cuda:0', grad_fn=<DivBackward0>)\n",
      "epoch 18:  loss:  tensor(0.1525, device='cuda:0', grad_fn=<DivBackward0>)\n",
      "epoch 19:  loss:  tensor(0.1350, device='cuda:0', grad_fn=<DivBackward0>)\n",
      "epoch 20:  loss:  tensor(0.1357, device='cuda:0', grad_fn=<DivBackward0>)\n",
      "epoch 21:  loss:  tensor(0.1376, device='cuda:0', grad_fn=<DivBackward0>)\n",
      "epoch 22:  loss:  tensor(0.1279, device='cuda:0', grad_fn=<DivBackward0>)\n",
      "epoch 23:  loss:  tensor(0.1273, device='cuda:0', grad_fn=<DivBackward0>)\n",
      "epoch 24:  loss:  tensor(0.1338, device='cuda:0', grad_fn=<DivBackward0>)\n",
      "epoch 25:  loss:  tensor(0.1218, device='cuda:0', grad_fn=<DivBackward0>)\n",
      "epoch 26:  loss:  tensor(0.1242, device='cuda:0', grad_fn=<DivBackward0>)\n",
      "epoch 27:  loss:  tensor(0.1197, device='cuda:0', grad_fn=<DivBackward0>)\n",
      "epoch 28:  loss:  tensor(0.1360, device='cuda:0', grad_fn=<DivBackward0>)\n",
      "epoch 29:  loss:  tensor(0.1241, device='cuda:0', grad_fn=<DivBackward0>)\n",
      "epoch 30:  loss:  tensor(0.1215, device='cuda:0', grad_fn=<DivBackward0>)\n",
      "epoch 31:  loss:  tensor(0.1145, device='cuda:0', grad_fn=<DivBackward0>)\n",
      "epoch 32:  loss:  tensor(0.1271, device='cuda:0', grad_fn=<DivBackward0>)\n",
      "epoch 33:  loss:  tensor(0.1069, device='cuda:0', grad_fn=<DivBackward0>)\n",
      "epoch 34:  loss:  tensor(0.1091, device='cuda:0', grad_fn=<DivBackward0>)\n",
      "epoch 35:  loss:  tensor(0.1202, device='cuda:0', grad_fn=<DivBackward0>)\n",
      "epoch 36:  loss:  tensor(0.1125, device='cuda:0', grad_fn=<DivBackward0>)\n",
      "epoch 37:  loss:  tensor(0.1258, device='cuda:0', grad_fn=<DivBackward0>)\n",
      "epoch 38:  loss:  tensor(0.1201, device='cuda:0', grad_fn=<DivBackward0>)\n",
      "epoch 39:  loss:  tensor(0.1033, device='cuda:0', grad_fn=<DivBackward0>)\n",
      "epoch 40:  loss:  tensor(0.1096, device='cuda:0', grad_fn=<DivBackward0>)\n",
      "epoch 41:  loss:  tensor(0.1102, device='cuda:0', grad_fn=<DivBackward0>)\n",
      "epoch 42:  loss:  tensor(0.1008, device='cuda:0', grad_fn=<DivBackward0>)\n",
      "epoch 43:  loss:  tensor(0.1024, device='cuda:0', grad_fn=<DivBackward0>)\n",
      "epoch 44:  loss:  tensor(0.1123, device='cuda:0', grad_fn=<DivBackward0>)\n",
      "epoch 45:  loss:  tensor(0.0964, device='cuda:0', grad_fn=<DivBackward0>)\n",
      "epoch 46:  loss:  tensor(0.0868, device='cuda:0', grad_fn=<DivBackward0>)\n",
      "epoch 47:  loss:  tensor(0.0959, device='cuda:0', grad_fn=<DivBackward0>)\n",
      "epoch 48:  loss:  tensor(0.0848, device='cuda:0', grad_fn=<DivBackward0>)\n",
      "epoch 49:  loss:  tensor(0.0889, device='cuda:0', grad_fn=<DivBackward0>)\n",
      "epoch 50:  loss:  tensor(0.0944, device='cuda:0', grad_fn=<DivBackward0>)\n",
      "epoch 51:  loss:  tensor(0.0953, device='cuda:0', grad_fn=<DivBackward0>)\n",
      "epoch 52:  loss:  tensor(0.0880, device='cuda:0', grad_fn=<DivBackward0>)\n",
      "epoch 53:  loss:  tensor(0.0820, device='cuda:0', grad_fn=<DivBackward0>)\n",
      "epoch 54:  loss:  tensor(0.0826, device='cuda:0', grad_fn=<DivBackward0>)\n",
      "epoch 55:  loss:  tensor(0.0934, device='cuda:0', grad_fn=<DivBackward0>)\n",
      "epoch 56:  loss:  tensor(0.1060, device='cuda:0', grad_fn=<DivBackward0>)\n",
      "epoch 57:  loss:  tensor(0.1027, device='cuda:0', grad_fn=<DivBackward0>)\n",
      "epoch 58:  loss:  tensor(0.1075, device='cuda:0', grad_fn=<DivBackward0>)\n",
      "epoch 59:  loss:  tensor(0.1118, device='cuda:0', grad_fn=<DivBackward0>)\n",
      "epoch 60:  loss:  tensor(0.1193, device='cuda:0', grad_fn=<DivBackward0>)\n",
      "epoch 61:  loss:  tensor(0.1061, device='cuda:0', grad_fn=<DivBackward0>)\n",
      "epoch 62:  loss:  tensor(0.1142, device='cuda:0', grad_fn=<DivBackward0>)\n",
      "epoch 63:  loss:  tensor(0.1038, device='cuda:0', grad_fn=<DivBackward0>)\n",
      "epoch 64:  loss:  tensor(0.1099, device='cuda:0', grad_fn=<DivBackward0>)\n",
      "epoch 65:  loss:  tensor(0.1425, device='cuda:0', grad_fn=<DivBackward0>)\n",
      "epoch 66:  loss:  tensor(0.1067, device='cuda:0', grad_fn=<DivBackward0>)\n",
      "epoch 67:  loss:  tensor(0.1151, device='cuda:0', grad_fn=<DivBackward0>)\n",
      "epoch 68:  loss:  tensor(0.1076, device='cuda:0', grad_fn=<DivBackward0>)\n",
      "epoch 69:  loss:  tensor(0.1118, device='cuda:0', grad_fn=<DivBackward0>)\n",
      "epoch 70:  loss:  tensor(0.1170, device='cuda:0', grad_fn=<DivBackward0>)\n",
      "epoch 71:  loss:  tensor(0.1059, device='cuda:0', grad_fn=<DivBackward0>)\n",
      "epoch 72:  loss:  tensor(0.1114, device='cuda:0', grad_fn=<DivBackward0>)\n",
      "epoch 73:  loss:  tensor(0.1317, device='cuda:0', grad_fn=<DivBackward0>)\n",
      "epoch 74:  loss:  tensor(0.1086, device='cuda:0', grad_fn=<DivBackward0>)\n",
      "epoch 75:  loss:  tensor(0.1184, device='cuda:0', grad_fn=<DivBackward0>)\n",
      "epoch 76:  loss:  tensor(0.1478, device='cuda:0', grad_fn=<DivBackward0>)\n",
      "epoch 77:  loss:  tensor(0.1200, device='cuda:0', grad_fn=<DivBackward0>)\n",
      "epoch 78:  loss:  tensor(0.1167, device='cuda:0', grad_fn=<DivBackward0>)\n",
      "epoch 79:  loss:  tensor(0.1019, device='cuda:0', grad_fn=<DivBackward0>)\n",
      "epoch 80:  loss:  tensor(0.1190, device='cuda:0', grad_fn=<DivBackward0>)\n"
     ]
    }
   ],
   "source": [
    "srgnn_model = SRGNN.SRGNN(GRU_config, df_ordered_cellphone).to(device)\n",
    "optimizer = optim.Adam(srgnn_model.parameters(), lr = 0.0002)\n",
    "srgnn_model.train()\n",
    "for i in range(80):\n",
    "    loss_ = 0\n",
    "    #count = 0\n",
    "    for batch in Interaction_GRU_all:\n",
    "        items_seqs = batch[item_seqs_name]\n",
    "        items_seqs_len = batch[GRU_config['item_list_length_field']]\n",
    "        #batch[next_item_seqs_name] = items_next\n",
    "        #batch[negative_seqs_name] = neg_next\n",
    "        srgnn_model(items_seqs, items_seqs_len)\n",
    "        loss = srgnn_model.calculate_loss(batch)\n",
    "        loss_+=loss\n",
    "        #count+=1\n",
    "        optimizer.zero_grad()\n",
    "        loss.backward()\n",
    "        optimizer.step()\n",
    "    if i>0 and (i+1)%5 == 0:\n",
    "            torch.save(srgnn_model, os.path.join(model_path, 'SRGNN_{}.pth'.format(i+1)))\n",
    "    print(f'epoch {i+1}: ', 'loss: ', loss_/len(Interaction_GRU_all))"
   ]
  },
  {
   "cell_type": "code",
   "execution_count": 78,
   "id": "d6188e11",
   "metadata": {},
   "outputs": [
    {
     "data": {
      "text/plain": [
       "'cuda:0'"
      ]
     },
     "execution_count": 78,
     "metadata": {},
     "output_type": "execute_result"
    }
   ],
   "source": [
    "srgnn_model.device"
   ]
  },
  {
   "cell_type": "markdown",
   "id": "f5fd7651",
   "metadata": {},
   "source": [
    "NARM部分"
   ]
  },
  {
   "cell_type": "code",
   "execution_count": 79,
   "id": "1712e6f9",
   "metadata": {},
   "outputs": [
    {
     "name": "stdout",
     "output_type": "stream",
     "text": [
      "embedding_size 256\n",
      "hidden_size 512\n",
      "loss_type BPR\n",
      "num_layers 2\n",
      "dropout_prob 0.35\n",
      "user_id_field UserId\n",
      "item_id_field itemsId\n",
      "list_suffix _Seq\n",
      "item_list_length_field seq_len\n",
      "next_prefix Next_\n",
      "neg_prefix Neg_\n",
      "max_item_list_length max_len\n",
      "device cuda:0\n",
      "loss_type  CE\n",
      "step 1\n"
     ]
    }
   ],
   "source": [
    "for k, v in GRU_config.items():\n",
    "    print(k, v)"
   ]
  },
  {
   "cell_type": "code",
   "execution_count": 80,
   "id": "741b9f2f",
   "metadata": {},
   "outputs": [],
   "source": [
    "import narm\n",
    "import torch.nn as nn"
   ]
  },
  {
   "cell_type": "code",
   "execution_count": 81,
   "id": "b1639200",
   "metadata": {},
   "outputs": [],
   "source": [
    "def len_argsort(seq):\n",
    "    return sorted(range(len(seq)), key=lambda x: len(seq[x]), reverse=True)"
   ]
  },
  {
   "cell_type": "code",
   "execution_count": 82,
   "id": "82930c9d",
   "metadata": {},
   "outputs": [],
   "source": [
    "#df_train_cellphone.loc[len_argsort(df_train_cellphone.session.tolist()),'session']"
   ]
  },
  {
   "cell_type": "code",
   "execution_count": 83,
   "id": "1ea245be",
   "metadata": {},
   "outputs": [
    {
     "data": {
      "text/plain": [
       "Index(['session', 'label', 'UserId', 'session_len', 'session_pad',\n",
       "       'neg_session'],\n",
       "      dtype='object')"
      ]
     },
     "execution_count": 83,
     "metadata": {},
     "output_type": "execute_result"
    }
   ],
   "source": [
    "df_train_cellphone.columns"
   ]
  },
  {
   "cell_type": "code",
   "execution_count": 84,
   "id": "60eda8f1",
   "metadata": {},
   "outputs": [
    {
     "data": {
      "text/plain": [
       "<module 'narm' from './SequentialRecommend01\\\\narm.py'>"
      ]
     },
     "execution_count": 84,
     "metadata": {},
     "output_type": "execute_result"
    }
   ],
   "source": [
    "imp.reload(preprocess)\n",
    "imp.reload(narm)"
   ]
  },
  {
   "cell_type": "code",
   "execution_count": 85,
   "id": "7dbbba2e",
   "metadata": {},
   "outputs": [
    {
     "name": "stdout",
     "output_type": "stream",
     "text": [
      "39178\n"
     ]
    },
    {
     "data": {
      "text/plain": [
       "39178"
      ]
     },
     "execution_count": 85,
     "metadata": {},
     "output_type": "execute_result"
    }
   ],
   "source": [
    "print(df_train_cellphone.shape[0])\n",
    "len(len_argsort(df_train_cellphone.session.tolist()))"
   ]
  },
  {
   "cell_type": "code",
   "execution_count": 86,
   "id": "fe9f4bec",
   "metadata": {
    "scrolled": true
   },
   "outputs": [
    {
     "name": "stdout",
     "output_type": "stream",
     "text": [
      "epoch 1:  loss:  tensor(9.6200, device='cuda:0', grad_fn=<DivBackward0>)\n",
      "epoch 2:  loss:  tensor(8.8536, device='cuda:0', grad_fn=<DivBackward0>)\n",
      "epoch 3:  loss:  tensor(8.4551, device='cuda:0', grad_fn=<DivBackward0>)\n",
      "epoch 4:  loss:  tensor(8.1330, device='cuda:0', grad_fn=<DivBackward0>)\n",
      "epoch 5:  loss:  tensor(7.8285, device='cuda:0', grad_fn=<DivBackward0>)\n",
      "epoch 6:  loss:  tensor(7.5640, device='cuda:0', grad_fn=<DivBackward0>)\n",
      "epoch 7:  loss:  tensor(7.3371, device='cuda:0', grad_fn=<DivBackward0>)\n",
      "epoch 8:  loss:  tensor(7.1716, device='cuda:0', grad_fn=<DivBackward0>)\n",
      "epoch 9:  loss:  tensor(6.9163, device='cuda:0', grad_fn=<DivBackward0>)\n",
      "epoch 10:  loss:  tensor(6.6279, device='cuda:0', grad_fn=<DivBackward0>)\n",
      "epoch 11:  loss:  tensor(6.3930, device='cuda:0', grad_fn=<DivBackward0>)\n",
      "epoch 12:  loss:  tensor(6.1502, device='cuda:0', grad_fn=<DivBackward0>)\n",
      "epoch 13:  loss:  tensor(5.9363, device='cuda:0', grad_fn=<DivBackward0>)\n",
      "epoch 14:  loss:  tensor(5.7159, device='cuda:0', grad_fn=<DivBackward0>)\n",
      "epoch 15:  loss:  tensor(5.5081, device='cuda:0', grad_fn=<DivBackward0>)\n",
      "epoch 16:  loss:  tensor(5.3283, device='cuda:0', grad_fn=<DivBackward0>)\n",
      "epoch 17:  loss:  tensor(5.1536, device='cuda:0', grad_fn=<DivBackward0>)\n",
      "epoch 18:  loss:  tensor(4.9876, device='cuda:0', grad_fn=<DivBackward0>)\n",
      "epoch 19:  loss:  tensor(4.8264, device='cuda:0', grad_fn=<DivBackward0>)\n",
      "epoch 20:  loss:  tensor(4.6782, device='cuda:0', grad_fn=<DivBackward0>)\n",
      "epoch 21:  loss:  tensor(4.5209, device='cuda:0', grad_fn=<DivBackward0>)\n",
      "epoch 22:  loss:  tensor(4.4086, device='cuda:0', grad_fn=<DivBackward0>)\n",
      "epoch 23:  loss:  tensor(4.3028, device='cuda:0', grad_fn=<DivBackward0>)\n",
      "epoch 24:  loss:  tensor(4.1816, device='cuda:0', grad_fn=<DivBackward0>)\n",
      "epoch 25:  loss:  tensor(4.0659, device='cuda:0', grad_fn=<DivBackward0>)\n",
      "epoch 26:  loss:  tensor(3.9627, device='cuda:0', grad_fn=<DivBackward0>)\n",
      "epoch 27:  loss:  tensor(3.8778, device='cuda:0', grad_fn=<DivBackward0>)\n",
      "epoch 28:  loss:  tensor(3.7956, device='cuda:0', grad_fn=<DivBackward0>)\n",
      "epoch 29:  loss:  tensor(3.6961, device='cuda:0', grad_fn=<DivBackward0>)\n",
      "epoch 30:  loss:  tensor(3.6121, device='cuda:0', grad_fn=<DivBackward0>)\n",
      "epoch 31:  loss:  tensor(3.5372, device='cuda:0', grad_fn=<DivBackward0>)\n",
      "epoch 32:  loss:  tensor(3.4557, device='cuda:0', grad_fn=<DivBackward0>)\n",
      "epoch 33:  loss:  tensor(3.3966, device='cuda:0', grad_fn=<DivBackward0>)\n",
      "epoch 34:  loss:  tensor(3.3236, device='cuda:0', grad_fn=<DivBackward0>)\n",
      "epoch 35:  loss:  tensor(3.2549, device='cuda:0', grad_fn=<DivBackward0>)\n",
      "epoch 36:  loss:  tensor(3.2000, device='cuda:0', grad_fn=<DivBackward0>)\n",
      "epoch 37:  loss:  tensor(3.1486, device='cuda:0', grad_fn=<DivBackward0>)\n",
      "epoch 38:  loss:  tensor(3.0981, device='cuda:0', grad_fn=<DivBackward0>)\n",
      "epoch 39:  loss:  tensor(3.0430, device='cuda:0', grad_fn=<DivBackward0>)\n",
      "epoch 40:  loss:  tensor(2.9920, device='cuda:0', grad_fn=<DivBackward0>)\n",
      "epoch 41:  loss:  tensor(2.9558, device='cuda:0', grad_fn=<DivBackward0>)\n",
      "epoch 42:  loss:  tensor(2.8944, device='cuda:0', grad_fn=<DivBackward0>)\n",
      "epoch 43:  loss:  tensor(2.8451, device='cuda:0', grad_fn=<DivBackward0>)\n",
      "epoch 44:  loss:  tensor(2.8133, device='cuda:0', grad_fn=<DivBackward0>)\n",
      "epoch 45:  loss:  tensor(2.7650, device='cuda:0', grad_fn=<DivBackward0>)\n",
      "epoch 46:  loss:  tensor(2.7385, device='cuda:0', grad_fn=<DivBackward0>)\n",
      "epoch 47:  loss:  tensor(2.6890, device='cuda:0', grad_fn=<DivBackward0>)\n",
      "epoch 48:  loss:  tensor(2.6400, device='cuda:0', grad_fn=<DivBackward0>)\n",
      "epoch 49:  loss:  tensor(2.6169, device='cuda:0', grad_fn=<DivBackward0>)\n",
      "epoch 50:  loss:  tensor(2.5863, device='cuda:0', grad_fn=<DivBackward0>)\n",
      "epoch 51:  loss:  tensor(2.5531, device='cuda:0', grad_fn=<DivBackward0>)\n",
      "epoch 52:  loss:  tensor(2.5174, device='cuda:0', grad_fn=<DivBackward0>)\n",
      "epoch 53:  loss:  tensor(2.4925, device='cuda:0', grad_fn=<DivBackward0>)\n",
      "epoch 54:  loss:  tensor(2.4600, device='cuda:0', grad_fn=<DivBackward0>)\n",
      "epoch 55:  loss:  tensor(2.4344, device='cuda:0', grad_fn=<DivBackward0>)\n",
      "epoch 56:  loss:  tensor(2.4039, device='cuda:0', grad_fn=<DivBackward0>)\n",
      "epoch 57:  loss:  tensor(2.3855, device='cuda:0', grad_fn=<DivBackward0>)\n",
      "epoch 58:  loss:  tensor(2.3450, device='cuda:0', grad_fn=<DivBackward0>)\n",
      "epoch 59:  loss:  tensor(2.3259, device='cuda:0', grad_fn=<DivBackward0>)\n",
      "epoch 60:  loss:  tensor(2.3174, device='cuda:0', grad_fn=<DivBackward0>)\n",
      "epoch 61:  loss:  tensor(2.2975, device='cuda:0', grad_fn=<DivBackward0>)\n",
      "epoch 62:  loss:  tensor(2.2675, device='cuda:0', grad_fn=<DivBackward0>)\n",
      "epoch 63:  loss:  tensor(2.2419, device='cuda:0', grad_fn=<DivBackward0>)\n",
      "epoch 64:  loss:  tensor(2.2281, device='cuda:0', grad_fn=<DivBackward0>)\n",
      "epoch 65:  loss:  tensor(2.2109, device='cuda:0', grad_fn=<DivBackward0>)\n",
      "epoch 66:  loss:  tensor(2.1946, device='cuda:0', grad_fn=<DivBackward0>)\n",
      "epoch 67:  loss:  tensor(2.1756, device='cuda:0', grad_fn=<DivBackward0>)\n",
      "epoch 68:  loss:  tensor(2.1473, device='cuda:0', grad_fn=<DivBackward0>)\n",
      "epoch 69:  loss:  tensor(2.1337, device='cuda:0', grad_fn=<DivBackward0>)\n",
      "epoch 70:  loss:  tensor(2.1165, device='cuda:0', grad_fn=<DivBackward0>)\n",
      "epoch 71:  loss:  tensor(2.1038, device='cuda:0', grad_fn=<DivBackward0>)\n",
      "epoch 72:  loss:  tensor(2.0945, device='cuda:0', grad_fn=<DivBackward0>)\n",
      "epoch 73:  loss:  tensor(2.0781, device='cuda:0', grad_fn=<DivBackward0>)\n",
      "epoch 74:  loss:  tensor(2.0712, device='cuda:0', grad_fn=<DivBackward0>)\n",
      "epoch 75:  loss:  tensor(2.0451, device='cuda:0', grad_fn=<DivBackward0>)\n",
      "epoch 76:  loss:  tensor(2.0361, device='cuda:0', grad_fn=<DivBackward0>)\n",
      "epoch 77:  loss:  tensor(2.0236, device='cuda:0', grad_fn=<DivBackward0>)\n",
      "epoch 78:  loss:  tensor(2.0111, device='cuda:0', grad_fn=<DivBackward0>)\n",
      "epoch 79:  loss:  tensor(2.0091, device='cuda:0', grad_fn=<DivBackward0>)\n",
      "epoch 80:  loss:  tensor(1.9857, device='cuda:0', grad_fn=<DivBackward0>)\n",
      "epoch 81:  loss:  tensor(1.9840, device='cuda:0', grad_fn=<DivBackward0>)\n",
      "epoch 82:  loss:  tensor(1.9715, device='cuda:0', grad_fn=<DivBackward0>)\n",
      "epoch 83:  loss:  tensor(1.9650, device='cuda:0', grad_fn=<DivBackward0>)\n",
      "epoch 84:  loss:  tensor(1.9480, device='cuda:0', grad_fn=<DivBackward0>)\n",
      "epoch 85:  loss:  tensor(1.9410, device='cuda:0', grad_fn=<DivBackward0>)\n",
      "epoch 86:  loss:  tensor(1.9230, device='cuda:0', grad_fn=<DivBackward0>)\n",
      "epoch 87:  loss:  tensor(1.9209, device='cuda:0', grad_fn=<DivBackward0>)\n",
      "epoch 88:  loss:  tensor(1.8998, device='cuda:0', grad_fn=<DivBackward0>)\n",
      "epoch 89:  loss:  tensor(1.9005, device='cuda:0', grad_fn=<DivBackward0>)\n",
      "epoch 90:  loss:  tensor(1.8970, device='cuda:0', grad_fn=<DivBackward0>)\n",
      "epoch 91:  loss:  tensor(1.8789, device='cuda:0', grad_fn=<DivBackward0>)\n",
      "epoch 92:  loss:  tensor(1.8766, device='cuda:0', grad_fn=<DivBackward0>)\n",
      "epoch 93:  loss:  tensor(1.8610, device='cuda:0', grad_fn=<DivBackward0>)\n",
      "epoch 94:  loss:  tensor(1.8527, device='cuda:0', grad_fn=<DivBackward0>)\n",
      "epoch 95:  loss:  tensor(1.8482, device='cuda:0', grad_fn=<DivBackward0>)\n",
      "epoch 96:  loss:  tensor(1.8279, device='cuda:0', grad_fn=<DivBackward0>)\n",
      "epoch 97:  loss:  tensor(1.8344, device='cuda:0', grad_fn=<DivBackward0>)\n",
      "epoch 98:  loss:  tensor(1.8174, device='cuda:0', grad_fn=<DivBackward0>)\n",
      "epoch 99:  loss:  tensor(1.8106, device='cuda:0', grad_fn=<DivBackward0>)\n",
      "epoch 100:  loss:  tensor(1.8059, device='cuda:0', grad_fn=<DivBackward0>)\n",
      "epoch 101:  loss:  tensor(1.8005, device='cuda:0', grad_fn=<DivBackward0>)\n",
      "epoch 102:  loss:  tensor(1.8021, device='cuda:0', grad_fn=<DivBackward0>)\n",
      "epoch 103:  loss:  tensor(1.7907, device='cuda:0', grad_fn=<DivBackward0>)\n",
      "epoch 104:  loss:  tensor(1.7790, device='cuda:0', grad_fn=<DivBackward0>)\n",
      "epoch 105:  loss:  tensor(1.7799, device='cuda:0', grad_fn=<DivBackward0>)\n",
      "epoch 106:  loss:  tensor(1.7649, device='cuda:0', grad_fn=<DivBackward0>)\n",
      "epoch 107:  loss:  tensor(1.7633, device='cuda:0', grad_fn=<DivBackward0>)\n",
      "epoch 108:  loss:  tensor(1.7649, device='cuda:0', grad_fn=<DivBackward0>)\n",
      "epoch 109:  loss:  tensor(1.7583, device='cuda:0', grad_fn=<DivBackward0>)\n",
      "epoch 110:  loss:  tensor(1.7419, device='cuda:0', grad_fn=<DivBackward0>)\n",
      "epoch 111:  loss:  tensor(1.7382, device='cuda:0', grad_fn=<DivBackward0>)\n"
     ]
    },
    {
     "name": "stdout",
     "output_type": "stream",
     "text": [
      "epoch 112:  loss:  tensor(1.7334, device='cuda:0', grad_fn=<DivBackward0>)\n",
      "epoch 113:  loss:  tensor(1.7327, device='cuda:0', grad_fn=<DivBackward0>)\n",
      "epoch 114:  loss:  tensor(1.7313, device='cuda:0', grad_fn=<DivBackward0>)\n",
      "epoch 115:  loss:  tensor(1.7159, device='cuda:0', grad_fn=<DivBackward0>)\n",
      "epoch 116:  loss:  tensor(1.7251, device='cuda:0', grad_fn=<DivBackward0>)\n",
      "epoch 117:  loss:  tensor(1.7045, device='cuda:0', grad_fn=<DivBackward0>)\n",
      "epoch 118:  loss:  tensor(1.7118, device='cuda:0', grad_fn=<DivBackward0>)\n",
      "epoch 119:  loss:  tensor(1.7039, device='cuda:0', grad_fn=<DivBackward0>)\n",
      "epoch 120:  loss:  tensor(1.6932, device='cuda:0', grad_fn=<DivBackward0>)\n"
     ]
    }
   ],
   "source": [
    "n_items = max(df_ordered_cellphone.itemsId.max()+1, \n",
    "              df_ordered_cellphone.Next.max()+1\n",
    "             )\n",
    "hidden_size = 512\n",
    "embedding_dim = 256\n",
    "batch_size = 128\n",
    "n_layers = 2\n",
    "loss_func = nn.CrossEntropyLoss()\n",
    "\n",
    "narm_model = narm.NARM(n_items, hidden_size, embedding_dim, batch_size, n_layers).to(device)\n",
    "narm_model.train()\n",
    "optimizer = optim.Adam(narm_model.parameters(), lr = 0.0002)\n",
    "max_len = df_train_cellphone.session_len.max()\n",
    "df_train_cellphone.reset_index(drop=True, inplace=True)\n",
    "for i in range(120):\n",
    "    loss_ = 0\n",
    "    count = 0\n",
    "    for batch in utils.batch_loader(df_train_cellphone.index.tolist(), 128):\n",
    "        \n",
    "        df_chunk = df_train_cellphone.loc[batch,:]\n",
    "        \n",
    "        index_ = len_argsort(df_chunk.session.tolist())\n",
    "        \n",
    "        df_chunk.reset_index(drop=True, inplace=True)\n",
    "        #print(df_chunk.loc[index_,:].head())\n",
    "        items_seqs, items_next, items_seqs_len, _ = preprocess.sequence_(df_chunk.loc[index_,:],\n",
    "                                                                     item_key='session',\n",
    "                                                                     next_key='label')\n",
    "        items_seqs = utils.to_tensor(items_seqs).T\n",
    "        #print(items_seqs.shape)\n",
    "        items_seqs_len = utils.to_tensor(items_seqs_len).to(torch.device('cpu'))\n",
    "        items_next = utils.to_tensor(items_next)\n",
    "        #print(items_next.shape)\n",
    "        #batch[negative_seqs_name] = neg_next\n",
    "        output = narm_model(items_seqs, items_seqs_len)\n",
    "        loss = loss_func(output, items_next)\n",
    "        loss_+=loss\n",
    "        count+=1\n",
    "        optimizer.zero_grad()\n",
    "        loss.backward()\n",
    "        optimizer.step()\n",
    "    if i>0 and (i+1)%5 == 0:\n",
    "        torch.save(narm_model, os.path.join(model_path, 'NARM_{}.pth'.format(i+1)))\n",
    "    print(f'epoch {i+1}: ', 'loss: ', loss_/count)"
   ]
  },
  {
   "cell_type": "code",
   "execution_count": 87,
   "id": "f8aa6076",
   "metadata": {},
   "outputs": [
    {
     "name": "stdout",
     "output_type": "stream",
     "text": [
      "9805\n"
     ]
    }
   ],
   "source": [
    "print(narm_model.n_items)\n"
   ]
  },
  {
   "cell_type": "code",
   "execution_count": 88,
   "id": "4ad16534",
   "metadata": {},
   "outputs": [
    {
     "data": {
      "text/plain": [
       "torch.Size([128, 9805])"
      ]
     },
     "execution_count": 88,
     "metadata": {},
     "output_type": "execute_result"
    }
   ],
   "source": [
    "output.shape"
   ]
  },
  {
   "cell_type": "code",
   "execution_count": 89,
   "id": "c663d810",
   "metadata": {},
   "outputs": [
    {
     "data": {
      "text/plain": [
       "torch.Size([128])"
      ]
     },
     "execution_count": 89,
     "metadata": {},
     "output_type": "execute_result"
    }
   ],
   "source": [
    "items_next.shape"
   ]
  },
  {
   "cell_type": "code",
   "execution_count": 90,
   "id": "4c9b97e9",
   "metadata": {},
   "outputs": [
    {
     "data": {
      "text/plain": [
       "torch.Size([5, 128])"
      ]
     },
     "execution_count": 90,
     "metadata": {},
     "output_type": "execute_result"
    }
   ],
   "source": [
    "items_seqs.shape"
   ]
  },
  {
   "cell_type": "markdown",
   "id": "ca0beae2",
   "metadata": {
    "scrolled": true
   },
   "source": [
    "检验模型"
   ]
  },
  {
   "cell_type": "markdown",
   "id": "e6d4fbe7",
   "metadata": {},
   "source": [
    "POP和itemKNN部分"
   ]
  },
  {
   "cell_type": "code",
   "execution_count": 91,
   "id": "c53a990e",
   "metadata": {},
   "outputs": [
    {
     "name": "stdout",
     "output_type": "stream",
     "text": [
      "<class 'pandas.core.frame.DataFrame'>\n",
      "Int64Index: 19686 entries, 3 to 46091\n",
      "Data columns (total 3 columns):\n",
      " #   Column   Non-Null Count  Dtype \n",
      "---  ------   --------------  ----- \n",
      " 0   session  19686 non-null  object\n",
      " 1   label    19686 non-null  int64 \n",
      " 2   UserId   19686 non-null  int32 \n",
      "dtypes: int32(1), int64(1), object(1)\n",
      "memory usage: 538.3+ KB\n"
     ]
    }
   ],
   "source": [
    "df_valid_cellphone.info()"
   ]
  },
  {
   "cell_type": "code",
   "execution_count": 92,
   "id": "d36182c9",
   "metadata": {},
   "outputs": [],
   "source": [
    "df_ordered_cellphone_valid = preprocess.ordered(df_valid_cellphone, user_key='UserId')\n",
    "cellphone_seqs_valid, cellphone_seqs_next_valid, cellphone_seqs_len_valid, _ = preprocess.sequence_(df_valid_cellphone,\n",
    "                                                                                                  item_key='session')"
   ]
  },
  {
   "cell_type": "code",
   "execution_count": 93,
   "id": "7dcd645e",
   "metadata": {},
   "outputs": [
    {
     "name": "stdout",
     "output_type": "stream",
     "text": [
      "<class 'pandas.core.frame.DataFrame'>\n",
      "RangeIndex: 32693 entries, 0 to 32692\n",
      "Data columns (total 5 columns):\n",
      " #   Column     Non-Null Count  Dtype\n",
      "---  ------     --------------  -----\n",
      " 0   sessionId  32693 non-null  int64\n",
      " 1   itemsId    32693 non-null  int64\n",
      " 2   Next       32693 non-null  int64\n",
      " 3   orderId    32693 non-null  int64\n",
      " 4   UserId     32693 non-null  int32\n",
      "dtypes: int32(1), int64(4)\n",
      "memory usage: 1.1 MB\n"
     ]
    }
   ],
   "source": [
    "df_ordered_cellphone_valid.info()"
   ]
  },
  {
   "cell_type": "code",
   "execution_count": 94,
   "id": "0a5e6bbd",
   "metadata": {},
   "outputs": [],
   "source": [
    "session_pop_result = []\n",
    "itemsKNN_result = []\n",
    "for session_id in df_ordered_cellphone_valid.sessionId.unique():\n",
    "    items_id = df_ordered_cellphone_valid[df_ordered_cellphone_valid.sessionId == session_id].itemsId.tolist()\n",
    "    for itemId in items_id:\n",
    "        predict_items = np.random.choice(df_ordered_cellphone.itemsId.unique(), size=10)\n",
    "        predict_items_ = np.random.choice(session_pop.pop_list.index, size=10)\n",
    "        predict_items = np.concatenate([predict_items, predict_items_])\n",
    "        \n",
    "        result = session_pop.predict_next(session_id, itemId, predict_items)\n",
    "        session_pop_result.append(result)\n",
    "        \n",
    "        #predict_items = np.random.choice(df_ordered_cellphone.itemsId.unique(), size=10)\n",
    "        predict_items_ = np.random.choice(list(item_knn.sims.keys()), size=20)\n",
    "        #predict_items = np.concatenate([predict_items, predict_items_])\n",
    "        try:\n",
    "            result2 = item_knn.predict_next(session_id, itemId, predict_items)\n",
    "            itemsKNN_result.append(result2)\n",
    "        except:\n",
    "            itemsKNN_result.append([])\n",
    "            continue"
   ]
  },
  {
   "cell_type": "code",
   "execution_count": 95,
   "id": "ba0e269b",
   "metadata": {
    "scrolled": true
   },
   "outputs": [
    {
     "data": {
      "text/plain": [
       "(100,)"
      ]
     },
     "execution_count": 95,
     "metadata": {},
     "output_type": "execute_result"
    }
   ],
   "source": [
    "session_pop.pop_list.shape"
   ]
  },
  {
   "cell_type": "code",
   "execution_count": 96,
   "id": "e27e75b7",
   "metadata": {
    "scrolled": true
   },
   "outputs": [
    {
     "data": {
      "text/plain": [
       "[7044    0.000000\n",
       " 7306    0.000000\n",
       " 860     0.000000\n",
       " 8671    0.000000\n",
       " 3688    0.000000\n",
       " 508     0.000000\n",
       " 7643    0.000000\n",
       " 492     0.000000\n",
       " 6233    0.000000\n",
       " 1820    0.000000\n",
       " 153     0.989130\n",
       " 13      0.994444\n",
       " 1458    0.989362\n",
       " 348     0.986667\n",
       " 342     0.993056\n",
       " 1185    0.990566\n",
       " 196     0.992424\n",
       " 265     0.994083\n",
       " 206     0.985507\n",
       " 1913    0.987013\n",
       " dtype: float64,\n",
       " 3032    0.000000\n",
       " 5394    0.000000\n",
       " 2948    0.000000\n",
       " 7457    0.000000\n",
       " 3353    0.000000\n",
       " 5140    0.000000\n",
       " 4643    0.000000\n",
       " 2701    0.000000\n",
       " 7099    0.000000\n",
       " 9650    0.000000\n",
       " 1143    0.988636\n",
       " 528     0.994924\n",
       " 1185    0.990566\n",
       " 61      0.987805\n",
       " 528     0.994924\n",
       " 18      0.996350\n",
       " 319     0.984615\n",
       " 342     0.993056\n",
       " 331     0.993243\n",
       " 7       0.991379\n",
       " dtype: float64,\n",
       " 6200    0.000000\n",
       " 8048    0.000000\n",
       " 9645    0.000000\n",
       " 6383    0.000000\n",
       " 1277    0.000000\n",
       " 2877    0.000000\n",
       " 6445    0.000000\n",
       " 7714    0.000000\n",
       " 6200    0.000000\n",
       " 6966    0.000000\n",
       " 279     0.990196\n",
       " 568     0.986667\n",
       " 165     0.996350\n",
       " 251     0.997608\n",
       " 165     0.996350\n",
       " 977     0.995595\n",
       " 630     0.992366\n",
       " 129     0.995951\n",
       " 1702    0.984375\n",
       " 132     0.985294\n",
       " dtype: float64,\n",
       " 2149    0.000000\n",
       " 1749    0.000000\n",
       " 3617    0.000000\n",
       " 6098    0.000000\n",
       " 2385    0.000000\n",
       " 1608    0.000000\n",
       " 877     0.000000\n",
       " 1547    0.000000\n",
       " 9570    0.000000\n",
       " 5748    0.000000\n",
       " 7       0.991379\n",
       " 264     0.988095\n",
       " 19      0.992366\n",
       " 189     0.985075\n",
       " 172     0.992647\n",
       " 192     0.991736\n",
       " 120     0.989474\n",
       " 120     0.989474\n",
       " 1254    0.988636\n",
       " 127     0.992424\n",
       " dtype: float64,\n",
       " 9438    0.000000\n",
       " 920     0.000000\n",
       " 7800    0.000000\n",
       " 3062    0.000000\n",
       " 1991    0.000000\n",
       " 5124    0.000000\n",
       " 9246    0.000000\n",
       " 1683    0.000000\n",
       " 6262    0.000000\n",
       " 4771    0.000000\n",
       " 19      0.992366\n",
       " 1702    0.984375\n",
       " 500     0.985075\n",
       " 841     0.991228\n",
       " 67      0.990385\n",
       " 724     0.985915\n",
       " 612     0.983871\n",
       " 676     0.996032\n",
       " 137     0.991228\n",
       " 289     0.990000\n",
       " dtype: float64]"
      ]
     },
     "execution_count": 96,
     "metadata": {},
     "output_type": "execute_result"
    }
   ],
   "source": [
    "session_pop_result[0:5]"
   ]
  },
  {
   "cell_type": "markdown",
   "id": "b9ce42f5",
   "metadata": {},
   "source": [
    "GRU部分"
   ]
  },
  {
   "cell_type": "code",
   "execution_count": 97,
   "id": "d6dc672b",
   "metadata": {},
   "outputs": [],
   "source": [
    "import torch.nn as nn"
   ]
  },
  {
   "cell_type": "code",
   "execution_count": 98,
   "id": "008c10d5",
   "metadata": {},
   "outputs": [],
   "source": [
    "GRU_model = torch.load(r'./SequentialRecommend01/model/GRU_80.pth')"
   ]
  },
  {
   "cell_type": "code",
   "execution_count": 99,
   "id": "9fcd2393",
   "metadata": {},
   "outputs": [],
   "source": [
    "cellphone_seqs_valid = utils.to_tensor(cellphone_seqs_valid)\n",
    "cellphone_seqs_len_valid = utils.to_tensor(cellphone_seqs_len_valid).unsqueeze(1)\n",
    "cellphone_seqs_next_valid = utils.to_tensor(cellphone_seqs_next_valid).unsqueeze(1)\n",
    "#cellphone_seqs_neg = utils.to_tensor(cellphone_seqs_neg)\n"
   ]
  },
  {
   "cell_type": "code",
   "execution_count": 100,
   "id": "5f4944a0",
   "metadata": {},
   "outputs": [],
   "source": [
    "session_id = list(range(len(cellphone_seqs_valid)))"
   ]
  },
  {
   "cell_type": "code",
   "execution_count": 101,
   "id": "d297085a",
   "metadata": {},
   "outputs": [],
   "source": [
    "Interaction_GRU_valid = []\n",
    "item_seqs_name = GRU_config['ITEM_ID_FIELD'] + GRU_config['LIST_SUFFIX']\n",
    "next_item_seqs_name = GRU_config['NEXT_PREFIX'] + GRU_config['ITEM_ID_FIELD']\n",
    "#negative_seqs_name = GRU_config['NEG_PREFIX'] + GRU_config['ITEM_ID_FIELD']\n",
    "#for session_batch in utils.batch_loader(session_id, int(BASE_config['batch_size'])):\n",
    "for session_batch in utils.batch_loader(session_id, 128):\n",
    "    session_batch = utils.to_tensor(session_batch)\n",
    "    Interaction_GRU = {}\n",
    "    Interaction_GRU[item_seqs_name] = cellphone_seqs_valid[session_batch]\n",
    "    Interaction_GRU[GRU_config['item_list_length_field']] = cellphone_seqs_len_valid[session_batch]\n",
    "    Interaction_GRU[next_item_seqs_name] = cellphone_seqs_next_valid[session_batch]\n",
    "    #Interaction_GRU[negative_seqs_name] = cellphone_seqs_neg[session_batch]\n",
    "    Interaction_GRU_valid.append(Interaction_GRU)"
   ]
  },
  {
   "cell_type": "code",
   "execution_count": 102,
   "id": "cac081f9",
   "metadata": {},
   "outputs": [],
   "source": [
    "import math\n",
    "\n",
    "class CosineSimilarity(nn.Module):\n",
    "    \"\"\"\n",
    "    This similarity function simply computes the cosine similarity between each pair of vectors. It has\n",
    "    no parameters.\n",
    "    \"\"\"\n",
    "    def forward(self, tensor_1, tensor_2):\n",
    "        normalized_tensor_1 = tensor_1 / tensor_1.norm(dim=-1, keepdim=True)\n",
    "        normalized_tensor_2 = tensor_2 / tensor_2.norm(dim=-1, keepdim=True)\n",
    "        return (normalized_tensor_1 * normalized_tensor_2).sum(dim=-1)\n",
    "    \n",
    "class DotProductSimilarity(nn.Module):\n",
    "    \"\"\"\n",
    "    This similarity function simply computes the dot product between each pair of vectors, with an\n",
    "    optional scaling to reduce the variance of the output elements.\n",
    "    \"\"\"\n",
    "    def __init__(self, scale_output=False):\n",
    "        super(DotProductSimilarity, self).__init__()\n",
    "        self.scale_output = scale_output\n",
    "    def forward(self, tensor_1, tensor_2):\n",
    "        result = (tensor_1 * tensor_2).sum(dim=-1)\n",
    "        if self.scale_output:\n",
    "            # TODO why allennlp do multiplication at here ?\n",
    "            result /= math.sqrt(tensor_1.size(-1))\n",
    "        return result\n",
    "\n"
   ]
  },
  {
   "cell_type": "code",
   "execution_count": 103,
   "id": "2c0d6221",
   "metadata": {},
   "outputs": [],
   "source": [
    "import torch.nn.functional as F\n",
    "import metric"
   ]
  },
  {
   "cell_type": "code",
   "execution_count": 104,
   "id": "6124f8ab",
   "metadata": {},
   "outputs": [
    {
     "name": "stdout",
     "output_type": "stream",
     "text": [
      "0.015016233766233766 0.0064277421959370445\n"
     ]
    }
   ],
   "source": [
    "GRU_model.eval()\n",
    "GRU_result = []\n",
    "sims = 0.0\n",
    "count = 0\n",
    "cosine_similarity = CosineSimilarity()\n",
    "product_similarity = DotProductSimilarity()\n",
    "recalls = []\n",
    "mrrs = []\n",
    "with torch.no_grad():\n",
    "    for batch in Interaction_GRU_valid:\n",
    "        items_seq = batch[item_seqs_name]\n",
    "        items_seq_len = batch[GRU_config['item_list_length_field']]\n",
    "        next_item_seqs = batch[next_item_seqs_name]\n",
    "        output = GRU_model(items_seq, items_seq_len)\n",
    "        #nexts = GRU_model.item_embedding(next_item_seqs).view(-1, 256)\n",
    "        sims = torch.matmul(output, GRU_model.item_embedding.weight.T)\n",
    "        #print(sims.shape)\n",
    "        logits = F.softmax(sims, dim = 1)\n",
    "        #print(logits.shape)\n",
    "        #sims += cosine_similarity(output, nexts)\n",
    "        #sims = torch.cosine_similarity(output, nexts)\n",
    "        recall, mrr = metric.evaluate(logits, next_item_seqs, k = 20)\n",
    "        recalls.append(recall)\n",
    "        mrrs.append(mrr)\n",
    "        #GRU_result.append(output)\n",
    "        #count+=1\n",
    "#sims/count\n",
    "print(np.mean(recalls), np.mean(mrrs))"
   ]
  },
  {
   "cell_type": "code",
   "execution_count": 105,
   "id": "d8ae0515",
   "metadata": {},
   "outputs": [
    {
     "data": {
      "text/plain": [
       "tensor(nan, device='cuda:0')"
      ]
     },
     "execution_count": 105,
     "metadata": {},
     "output_type": "execute_result"
    }
   ],
   "source": [
    "(sims/count).mean()"
   ]
  },
  {
   "cell_type": "code",
   "execution_count": 106,
   "id": "8d5c1cb6",
   "metadata": {},
   "outputs": [],
   "source": [
    "torch.cuda.empty_cache()"
   ]
  },
  {
   "cell_type": "markdown",
   "id": "fc2e37a3",
   "metadata": {},
   "source": [
    "SRGNN部分"
   ]
  },
  {
   "cell_type": "code",
   "execution_count": 107,
   "id": "ebd77f2c",
   "metadata": {},
   "outputs": [],
   "source": [
    "SRGNN_model = torch.load(r'./SequentialRecommend01/model/SRGNN_50.pth')"
   ]
  },
  {
   "cell_type": "code",
   "execution_count": 108,
   "id": "5e9c85b1",
   "metadata": {},
   "outputs": [
    {
     "data": {
      "text/plain": [
       "tensor([0.0882, 0.1246, 0.0713, 0.1051, 0.0893, 0.1176, 0.0757, 0.0700, 0.0503,\n",
       "        0.0320, 0.0643, 0.1234, 0.1146, 0.0931, 0.1022, 0.1223, 0.0678, 0.0559,\n",
       "        0.0995, 0.0937, 0.0994, 0.0865, 0.0829, 0.0613, 0.0730, 0.1256, 0.0938,\n",
       "        0.0818, 0.1192, 0.0605, 0.0772, 0.0987, 0.0691, 0.0937, 0.1294, 0.0786,\n",
       "        0.1212, 0.1331, 0.1241, 0.0418, 0.0630, 0.1041, 0.1436, 0.0625, 0.0785,\n",
       "        0.1442, 0.1359, 0.1200, 0.0125, 0.1318, 0.1010, 0.0559, 0.0763, 0.0831,\n",
       "        0.1147, 0.1555, 0.0828, 0.1152, 0.0591, 0.1124, 0.0782, 0.0874, 0.0194,\n",
       "        0.1221, 0.1143, 0.1027, 0.1119, 0.1424, 0.0936, 0.0877, 0.1195, 0.0922,\n",
       "        0.1009, 0.1339, 0.0545, 0.1198, 0.0696, 0.0462, 0.0959, 0.0536, 0.1153,\n",
       "        0.1190, 0.1065, 0.1364, 0.1072, 0.0827, 0.1025, 0.0873, 0.0730, 0.1149,\n",
       "        0.0708, 0.1349, 0.1408, 0.0768, 0.0888, 0.1046, 0.1196, 0.0504, 0.0997,\n",
       "        0.0808, 0.1303, 0.0802, 0.1881, 0.0703, 0.0649, 0.1213, 0.1340, 0.0824,\n",
       "        0.0860, 0.0830, 0.0894, 0.0470, 0.1240, 0.0609, 0.0978, 0.1132, 0.0729,\n",
       "        0.1072, 0.0881, 0.0688, 0.1058, 0.1137, 0.0580, 0.1047, 0.0917, 0.0744,\n",
       "        0.0578, 0.0834], device='cuda:0')"
      ]
     },
     "execution_count": 108,
     "metadata": {},
     "output_type": "execute_result"
    }
   ],
   "source": [
    "SRGNN_model.eval()\n",
    "sims = 0.0\n",
    "count = 0\n",
    "\n",
    "with torch.no_grad():\n",
    "    for batch in Interaction_GRU_valid:\n",
    "        items_seq = batch[item_seqs_name]\n",
    "        items_seq_len = batch[GRU_config['item_list_length_field']]\n",
    "        next_item_seqs = batch[next_item_seqs_name]\n",
    "        output = SRGNN_model(items_seq, items_seq_len)\n",
    "        nexts = SRGNN_model.item_embedding(next_item_seqs).view(-1, 256)\n",
    "        sims += cosine_similarity(output, nexts)\n",
    "        #sims = torch.cosine_similarity(output, nexts)\n",
    "        \n",
    "        count+=1\n",
    "sims/count"
   ]
  },
  {
   "cell_type": "code",
   "execution_count": 109,
   "id": "6b841c1d",
   "metadata": {},
   "outputs": [
    {
     "data": {
      "text/plain": [
       "tensor(0.0939, device='cuda:0')"
      ]
     },
     "execution_count": 109,
     "metadata": {},
     "output_type": "execute_result"
    }
   ],
   "source": [
    "(sims/count).mean()"
   ]
  },
  {
   "cell_type": "markdown",
   "id": "b0ff233a",
   "metadata": {},
   "source": [
    "NARM部分"
   ]
  },
  {
   "cell_type": "code",
   "execution_count": 110,
   "id": "e8c1db95",
   "metadata": {},
   "outputs": [],
   "source": [
    "NARM_model = torch.load(r'./SequentialRecommend01/model/NARM_120.pth')"
   ]
  },
  {
   "cell_type": "code",
   "execution_count": 111,
   "id": "93b3fdac",
   "metadata": {},
   "outputs": [],
   "source": [
    "NARM_model.eval()\n",
    "sims = 0.0\n",
    "count = 0\n",
    "topk = 20\n",
    "recalls = []\n",
    "mrrs = []\n",
    "with torch.no_grad():\n",
    "    df_valid_cellphone.reset_index(drop=True, inplace=True)\n",
    "    \n",
    "        \n",
    "    for batch in utils.batch_loader(df_valid_cellphone.index.tolist(), 128):\n",
    "\n",
    "        df_chunk = df_valid_cellphone.loc[batch,:]\n",
    "\n",
    "        index_ = len_argsort(df_chunk.session.tolist())\n",
    "\n",
    "        df_chunk.reset_index(drop=True, inplace=True)\n",
    "        items_seqs, items_next, items_seqs_len, _ = preprocess.sequence_(df_chunk.loc[index_,:],\n",
    "                                                                     item_key='session',\n",
    "                                                                     next_key='label')\n",
    "        items_seqs = utils.to_tensor(items_seqs).T\n",
    "        #print(items_seqs.shape)\n",
    "        items_seqs_len = utils.to_tensor(items_seqs_len).to(torch.device('cpu'))\n",
    "        items_next = utils.to_tensor(items_next)\n",
    "        #print(items_next.shape)\n",
    "        #batch[negative_seqs_name] = neg_next\n",
    "        outputs = NARM_model(items_seqs, items_seqs_len)\n",
    "        logits = F.softmax(outputs, dim = 1)\n",
    "        #print(logits.shape, items_next.shape)\n",
    "        recall, mrr = metric.evaluate(logits, items_next, k = topk)\n",
    "        recalls.append(recall)\n",
    "        mrrs.append(mrr)\n"
   ]
  },
  {
   "cell_type": "code",
   "execution_count": 112,
   "id": "0e811828",
   "metadata": {},
   "outputs": [
    {
     "data": {
      "text/plain": [
       "0.0625"
      ]
     },
     "execution_count": 112,
     "metadata": {},
     "output_type": "execute_result"
    }
   ],
   "source": [
    "np.mean(recall)"
   ]
  },
  {
   "cell_type": "code",
   "execution_count": 113,
   "id": "b1c06ed9",
   "metadata": {},
   "outputs": [
    {
     "data": {
      "text/plain": [
       "0.045414336557899206"
      ]
     },
     "execution_count": 113,
     "metadata": {},
     "output_type": "execute_result"
    }
   ],
   "source": [
    "np.mean(mrrs)"
   ]
  },
  {
   "cell_type": "code",
   "execution_count": 114,
   "id": "a59f18e8",
   "metadata": {},
   "outputs": [
    {
     "data": {
      "text/plain": [
       "tensor([ 454,  449, 7737,   66, 8731,  454, 1853, 6208, 1827, 3912, 5329, 2099,\n",
       "        8175, 8269,  291, 1546, 6920,  104, 7128, 5645, 9286, 2551, 2456, 1558,\n",
       "        6515, 7270, 1360, 6603, 8367, 1190,  959,  918,  571,  450,  252, 7789,\n",
       "        2600, 8218,  362, 2011, 2842, 2513, 5896,  958, 6828, 5226, 3322,  833,\n",
       "        1407,  480, 1953,  304, 7748,    8, 6125, 1892, 7346, 7501, 5427, 5101,\n",
       "        1046, 4813,  993, 3123,  697, 1281, 1388, 8403, 1021, 7258, 7967,  723,\n",
       "        5277, 1996, 2672,   92,  812, 6459, 5013, 1276,   36,  398, 1655, 1156,\n",
       "        3805,  358, 1142, 1041, 2856,  454, 3241, 3988, 5897, 2310, 2827, 5554,\n",
       "         539, 3219, 8510, 5358, 7809, 8330,  840,  368, 4923, 1653, 3822,   53,\n",
       "        6641, 2485,  270,  594, 9382, 8484, 2287,  450, 1929, 8068, 8486, 3916,\n",
       "        8540,  547,  273, 2362, 3865, 8393, 4566, 2607], device='cuda:0')"
      ]
     },
     "execution_count": 114,
     "metadata": {},
     "output_type": "execute_result"
    }
   ],
   "source": [
    "items_next"
   ]
  },
  {
   "cell_type": "code",
   "execution_count": 115,
   "id": "9cd365cf",
   "metadata": {},
   "outputs": [
    {
     "name": "stdout",
     "output_type": "stream",
     "text": [
      "<class 'pandas.core.frame.DataFrame'>\n",
      "RangeIndex: 46092 entries, 0 to 46091\n",
      "Data columns (total 3 columns):\n",
      " #   Column   Non-Null Count  Dtype \n",
      "---  ------   --------------  ----- \n",
      " 0   session  46092 non-null  object\n",
      " 1   label    46092 non-null  int64 \n",
      " 2   UserId   46092 non-null  int32 \n",
      "dtypes: int32(1), int64(1), object(1)\n",
      "memory usage: 900.4+ KB\n"
     ]
    }
   ],
   "source": [
    "df_train_cellphone_.info()"
   ]
  },
  {
   "cell_type": "code",
   "execution_count": 116,
   "id": "47d23afa",
   "metadata": {},
   "outputs": [
    {
     "name": "stdout",
     "output_type": "stream",
     "text": [
      "9803\n",
      "9788\n"
     ]
    }
   ],
   "source": [
    "print(df_ordered_cellphone.itemsId.max())\n",
    "print(df_ordered_cellphone_valid.itemsId.max())"
   ]
  },
  {
   "cell_type": "code",
   "execution_count": 117,
   "id": "e6f0f7ca",
   "metadata": {},
   "outputs": [
    {
     "name": "stdout",
     "output_type": "stream",
     "text": [
      "tensor(5, device='cuda:0')\n",
      "tensor(5, device='cuda:0')\n"
     ]
    }
   ],
   "source": [
    "print(cellphone_seqs_len.max())\n",
    "print(cellphone_seqs_len_valid.max())"
   ]
  },
  {
   "cell_type": "code",
   "execution_count": 118,
   "id": "6b4b1df2",
   "metadata": {},
   "outputs": [],
   "source": [
    "df_beauty = pd.read_csv(r'./SequentialRecommend01/data/Amazon_Beauty/train_sessions.csv')"
   ]
  },
  {
   "cell_type": "code",
   "execution_count": 119,
   "id": "b159461b",
   "metadata": {},
   "outputs": [
    {
     "name": "stdout",
     "output_type": "stream",
     "text": [
      "<class 'pandas.core.frame.DataFrame'>\n",
      "RangeIndex: 50297 entries, 0 to 50296\n",
      "Data columns (total 2 columns):\n",
      " #   Column   Non-Null Count  Dtype \n",
      "---  ------   --------------  ----- \n",
      " 0   session  50297 non-null  object\n",
      " 1   label    50297 non-null  int64 \n",
      "dtypes: int64(1), object(1)\n",
      "memory usage: 786.0+ KB\n"
     ]
    }
   ],
   "source": [
    "df_beauty.info()"
   ]
  },
  {
   "cell_type": "code",
   "execution_count": 120,
   "id": "eec78750",
   "metadata": {},
   "outputs": [],
   "source": [
    "df_ordered_beauty = preprocess.ordered(df_beauty)"
   ]
  },
  {
   "cell_type": "code",
   "execution_count": 121,
   "id": "8391d9b2",
   "metadata": {},
   "outputs": [
    {
     "data": {
      "text/plain": [
       "11673"
      ]
     },
     "execution_count": 121,
     "metadata": {},
     "output_type": "execute_result"
    }
   ],
   "source": [
    "df_ordered_beauty.itemsId.max()"
   ]
  },
  {
   "cell_type": "code",
   "execution_count": 122,
   "id": "42a65b62",
   "metadata": {},
   "outputs": [
    {
     "data": {
      "text/plain": [
       "11672"
      ]
     },
     "execution_count": 122,
     "metadata": {},
     "output_type": "execute_result"
    }
   ],
   "source": [
    "df_ordered_beauty.Next.max()"
   ]
  },
  {
   "cell_type": "code",
   "execution_count": 123,
   "id": "d0959a30",
   "metadata": {},
   "outputs": [],
   "source": [
    "beauty_seqs, beauty_seqs_next, beauty_seqs_len, beauty_max_len  = preprocess.sequence_(df_beauty,\n",
    "                                                                                       item_key='session')\n",
    "beauty_graph = preprocess.make_graph(df_ordered_beauty, weights=True)"
   ]
  },
  {
   "cell_type": "code",
   "execution_count": 124,
   "id": "e7ff258e",
   "metadata": {},
   "outputs": [
    {
     "data": {
      "text/plain": [
       "<module 'narm' from './SequentialRecommend01\\\\narm.py'>"
      ]
     },
     "execution_count": 124,
     "metadata": {},
     "output_type": "execute_result"
    }
   ],
   "source": [
    "import narm\n",
    "imp.reload(narm)"
   ]
  },
  {
   "cell_type": "code",
   "execution_count": 125,
   "id": "b6f40007",
   "metadata": {},
   "outputs": [
    {
     "data": {
      "text/plain": [
       "5"
      ]
     },
     "execution_count": 125,
     "metadata": {},
     "output_type": "execute_result"
    }
   ],
   "source": [
    "max(beauty_seqs_len)"
   ]
  },
  {
   "cell_type": "code",
   "execution_count": 126,
   "id": "6158ed58",
   "metadata": {},
   "outputs": [],
   "source": [
    "df_ordered_cellphone_ = preprocess.ordered(df_train_cellphone_)"
   ]
  },
  {
   "cell_type": "code",
   "execution_count": 127,
   "id": "e0858a58",
   "metadata": {},
   "outputs": [
    {
     "name": "stdout",
     "output_type": "stream",
     "text": [
      "epoch 1:  loss:  tensor(9.6484, device='cuda:0', grad_fn=<DivBackward0>)\n",
      "epoch 2:  loss:  tensor(9.0857, device='cuda:0', grad_fn=<DivBackward0>)\n",
      "epoch 3:  loss:  tensor(8.8525, device='cuda:0', grad_fn=<DivBackward0>)\n",
      "epoch 4:  loss:  tensor(8.6778, device='cuda:0', grad_fn=<DivBackward0>)\n",
      "epoch 5:  loss:  tensor(8.5297, device='cuda:0', grad_fn=<DivBackward0>)\n",
      "epoch 6:  loss:  tensor(8.3798, device='cuda:0', grad_fn=<DivBackward0>)\n",
      "epoch 7:  loss:  tensor(8.2508, device='cuda:0', grad_fn=<DivBackward0>)\n",
      "epoch 8:  loss:  tensor(8.1274, device='cuda:0', grad_fn=<DivBackward0>)\n",
      "epoch 9:  loss:  tensor(7.9976, device='cuda:0', grad_fn=<DivBackward0>)\n",
      "epoch 10:  loss:  tensor(7.8647, device='cuda:0', grad_fn=<DivBackward0>)\n",
      "epoch 11:  loss:  tensor(7.7326, device='cuda:0', grad_fn=<DivBackward0>)\n",
      "epoch 12:  loss:  tensor(7.5982, device='cuda:0', grad_fn=<DivBackward0>)\n",
      "epoch 13:  loss:  tensor(7.4581, device='cuda:0', grad_fn=<DivBackward0>)\n",
      "epoch 14:  loss:  tensor(7.3204, device='cuda:0', grad_fn=<DivBackward0>)\n",
      "epoch 15:  loss:  tensor(7.1985, device='cuda:0', grad_fn=<DivBackward0>)\n",
      "epoch 16:  loss:  tensor(7.0617, device='cuda:0', grad_fn=<DivBackward0>)\n",
      "epoch 17:  loss:  tensor(6.9530, device='cuda:0', grad_fn=<DivBackward0>)\n",
      "epoch 18:  loss:  tensor(6.8248, device='cuda:0', grad_fn=<DivBackward0>)\n",
      "epoch 19:  loss:  tensor(6.7156, device='cuda:0', grad_fn=<DivBackward0>)\n",
      "epoch 20:  loss:  tensor(6.6024, device='cuda:0', grad_fn=<DivBackward0>)\n",
      "epoch 21:  loss:  tensor(6.5007, device='cuda:0', grad_fn=<DivBackward0>)\n",
      "epoch 22:  loss:  tensor(6.3984, device='cuda:0', grad_fn=<DivBackward0>)\n",
      "epoch 23:  loss:  tensor(6.2905, device='cuda:0', grad_fn=<DivBackward0>)\n",
      "epoch 24:  loss:  tensor(6.1816, device='cuda:0', grad_fn=<DivBackward0>)\n",
      "epoch 25:  loss:  tensor(6.0899, device='cuda:0', grad_fn=<DivBackward0>)\n",
      "epoch 26:  loss:  tensor(5.9885, device='cuda:0', grad_fn=<DivBackward0>)\n",
      "epoch 27:  loss:  tensor(5.8804, device='cuda:0', grad_fn=<DivBackward0>)\n",
      "epoch 28:  loss:  tensor(5.7841, device='cuda:0', grad_fn=<DivBackward0>)\n",
      "epoch 29:  loss:  tensor(5.6915, device='cuda:0', grad_fn=<DivBackward0>)\n",
      "epoch 30:  loss:  tensor(5.5917, device='cuda:0', grad_fn=<DivBackward0>)\n",
      "epoch 31:  loss:  tensor(5.4990, device='cuda:0', grad_fn=<DivBackward0>)\n",
      "epoch 32:  loss:  tensor(5.4282, device='cuda:0', grad_fn=<DivBackward0>)\n",
      "epoch 33:  loss:  tensor(5.3391, device='cuda:0', grad_fn=<DivBackward0>)\n",
      "epoch 34:  loss:  tensor(5.2623, device='cuda:0', grad_fn=<DivBackward0>)\n",
      "epoch 35:  loss:  tensor(5.1889, device='cuda:0', grad_fn=<DivBackward0>)\n",
      "epoch 36:  loss:  tensor(5.1068, device='cuda:0', grad_fn=<DivBackward0>)\n",
      "epoch 37:  loss:  tensor(5.0408, device='cuda:0', grad_fn=<DivBackward0>)\n",
      "epoch 38:  loss:  tensor(4.9648, device='cuda:0', grad_fn=<DivBackward0>)\n",
      "epoch 39:  loss:  tensor(4.9026, device='cuda:0', grad_fn=<DivBackward0>)\n",
      "epoch 40:  loss:  tensor(4.8244, device='cuda:0', grad_fn=<DivBackward0>)\n",
      "epoch 41:  loss:  tensor(4.7595, device='cuda:0', grad_fn=<DivBackward0>)\n",
      "epoch 42:  loss:  tensor(4.7065, device='cuda:0', grad_fn=<DivBackward0>)\n",
      "epoch 43:  loss:  tensor(4.6461, device='cuda:0', grad_fn=<DivBackward0>)\n",
      "epoch 44:  loss:  tensor(4.5705, device='cuda:0', grad_fn=<DivBackward0>)\n",
      "epoch 45:  loss:  tensor(4.5469, device='cuda:0', grad_fn=<DivBackward0>)\n",
      "epoch 46:  loss:  tensor(4.4780, device='cuda:0', grad_fn=<DivBackward0>)\n",
      "epoch 47:  loss:  tensor(4.4259, device='cuda:0', grad_fn=<DivBackward0>)\n",
      "epoch 48:  loss:  tensor(4.3771, device='cuda:0', grad_fn=<DivBackward0>)\n",
      "epoch 49:  loss:  tensor(4.3413, device='cuda:0', grad_fn=<DivBackward0>)\n",
      "epoch 50:  loss:  tensor(4.2908, device='cuda:0', grad_fn=<DivBackward0>)\n",
      "epoch 51:  loss:  tensor(4.2441, device='cuda:0', grad_fn=<DivBackward0>)\n",
      "epoch 52:  loss:  tensor(4.2256, device='cuda:0', grad_fn=<DivBackward0>)\n",
      "epoch 53:  loss:  tensor(4.1929, device='cuda:0', grad_fn=<DivBackward0>)\n",
      "epoch 54:  loss:  tensor(4.1523, device='cuda:0', grad_fn=<DivBackward0>)\n",
      "epoch 55:  loss:  tensor(4.1124, device='cuda:0', grad_fn=<DivBackward0>)\n",
      "epoch 56:  loss:  tensor(4.0916, device='cuda:0', grad_fn=<DivBackward0>)\n",
      "epoch 57:  loss:  tensor(4.0645, device='cuda:0', grad_fn=<DivBackward0>)\n",
      "epoch 58:  loss:  tensor(4.0260, device='cuda:0', grad_fn=<DivBackward0>)\n",
      "epoch 59:  loss:  tensor(3.9846, device='cuda:0', grad_fn=<DivBackward0>)\n",
      "epoch 60:  loss:  tensor(3.9729, device='cuda:0', grad_fn=<DivBackward0>)\n",
      "epoch 61:  loss:  tensor(3.9400, device='cuda:0', grad_fn=<DivBackward0>)\n",
      "epoch 62:  loss:  tensor(3.8876, device='cuda:0', grad_fn=<DivBackward0>)\n",
      "epoch 63:  loss:  tensor(3.8579, device='cuda:0', grad_fn=<DivBackward0>)\n",
      "epoch 64:  loss:  tensor(3.8183, device='cuda:0', grad_fn=<DivBackward0>)\n",
      "epoch 65:  loss:  tensor(3.7895, device='cuda:0', grad_fn=<DivBackward0>)\n",
      "epoch 66:  loss:  tensor(3.7463, device='cuda:0', grad_fn=<DivBackward0>)\n",
      "epoch 67:  loss:  tensor(3.7122, device='cuda:0', grad_fn=<DivBackward0>)\n",
      "epoch 68:  loss:  tensor(3.6771, device='cuda:0', grad_fn=<DivBackward0>)\n",
      "epoch 69:  loss:  tensor(3.6452, device='cuda:0', grad_fn=<DivBackward0>)\n",
      "epoch 70:  loss:  tensor(3.6129, device='cuda:0', grad_fn=<DivBackward0>)\n",
      "epoch 71:  loss:  tensor(3.5909, device='cuda:0', grad_fn=<DivBackward0>)\n",
      "epoch 72:  loss:  tensor(3.5441, device='cuda:0', grad_fn=<DivBackward0>)\n",
      "epoch 73:  loss:  tensor(3.5041, device='cuda:0', grad_fn=<DivBackward0>)\n",
      "epoch 74:  loss:  tensor(3.4863, device='cuda:0', grad_fn=<DivBackward0>)\n",
      "epoch 75:  loss:  tensor(3.4475, device='cuda:0', grad_fn=<DivBackward0>)\n",
      "epoch 76:  loss:  tensor(3.4099, device='cuda:0', grad_fn=<DivBackward0>)\n",
      "epoch 77:  loss:  tensor(3.3790, device='cuda:0', grad_fn=<DivBackward0>)\n",
      "epoch 78:  loss:  tensor(3.3595, device='cuda:0', grad_fn=<DivBackward0>)\n",
      "epoch 79:  loss:  tensor(3.3127, device='cuda:0', grad_fn=<DivBackward0>)\n",
      "epoch 80:  loss:  tensor(3.2969, device='cuda:0', grad_fn=<DivBackward0>)\n",
      "epoch 81:  loss:  tensor(3.2816, device='cuda:0', grad_fn=<DivBackward0>)\n",
      "epoch 82:  loss:  tensor(3.2447, device='cuda:0', grad_fn=<DivBackward0>)\n",
      "epoch 83:  loss:  tensor(3.2185, device='cuda:0', grad_fn=<DivBackward0>)\n",
      "epoch 84:  loss:  tensor(3.1909, device='cuda:0', grad_fn=<DivBackward0>)\n",
      "epoch 85:  loss:  tensor(3.1678, device='cuda:0', grad_fn=<DivBackward0>)\n",
      "epoch 86:  loss:  tensor(3.1637, device='cuda:0', grad_fn=<DivBackward0>)\n",
      "epoch 87:  loss:  tensor(3.1110, device='cuda:0', grad_fn=<DivBackward0>)\n",
      "epoch 88:  loss:  tensor(3.0822, device='cuda:0', grad_fn=<DivBackward0>)\n",
      "epoch 89:  loss:  tensor(3.0794, device='cuda:0', grad_fn=<DivBackward0>)\n",
      "epoch 90:  loss:  tensor(3.0589, device='cuda:0', grad_fn=<DivBackward0>)\n",
      "epoch 91:  loss:  tensor(3.0383, device='cuda:0', grad_fn=<DivBackward0>)\n",
      "epoch 92:  loss:  tensor(3.0060, device='cuda:0', grad_fn=<DivBackward0>)\n",
      "epoch 93:  loss:  tensor(2.9917, device='cuda:0', grad_fn=<DivBackward0>)\n",
      "epoch 94:  loss:  tensor(2.9857, device='cuda:0', grad_fn=<DivBackward0>)\n",
      "epoch 95:  loss:  tensor(2.9505, device='cuda:0', grad_fn=<DivBackward0>)\n",
      "epoch 96:  loss:  tensor(2.9429, device='cuda:0', grad_fn=<DivBackward0>)\n",
      "epoch 97:  loss:  tensor(2.9151, device='cuda:0', grad_fn=<DivBackward0>)\n",
      "epoch 98:  loss:  tensor(2.8885, device='cuda:0', grad_fn=<DivBackward0>)\n",
      "epoch 99:  loss:  tensor(2.8963, device='cuda:0', grad_fn=<DivBackward0>)\n",
      "epoch 100:  loss:  tensor(2.8538, device='cuda:0', grad_fn=<DivBackward0>)\n",
      "epoch 101:  loss:  tensor(2.8451, device='cuda:0', grad_fn=<DivBackward0>)\n",
      "epoch 102:  loss:  tensor(2.8217, device='cuda:0', grad_fn=<DivBackward0>)\n",
      "epoch 103:  loss:  tensor(2.8161, device='cuda:0', grad_fn=<DivBackward0>)\n",
      "epoch 104:  loss:  tensor(2.7938, device='cuda:0', grad_fn=<DivBackward0>)\n",
      "epoch 105:  loss:  tensor(2.7786, device='cuda:0', grad_fn=<DivBackward0>)\n",
      "epoch 106:  loss:  tensor(2.7705, device='cuda:0', grad_fn=<DivBackward0>)\n",
      "epoch 107:  loss:  tensor(2.7319, device='cuda:0', grad_fn=<DivBackward0>)\n",
      "epoch 108:  loss:  tensor(2.7462, device='cuda:0', grad_fn=<DivBackward0>)\n",
      "epoch 109:  loss:  tensor(2.7381, device='cuda:0', grad_fn=<DivBackward0>)\n",
      "epoch 110:  loss:  tensor(2.7101, device='cuda:0', grad_fn=<DivBackward0>)\n",
      "epoch 111:  loss:  tensor(2.6834, device='cuda:0', grad_fn=<DivBackward0>)\n"
     ]
    },
    {
     "name": "stdout",
     "output_type": "stream",
     "text": [
      "epoch 112:  loss:  tensor(2.6970, device='cuda:0', grad_fn=<DivBackward0>)\n",
      "epoch 113:  loss:  tensor(2.6675, device='cuda:0', grad_fn=<DivBackward0>)\n",
      "epoch 114:  loss:  tensor(2.6559, device='cuda:0', grad_fn=<DivBackward0>)\n",
      "epoch 115:  loss:  tensor(2.6393, device='cuda:0', grad_fn=<DivBackward0>)\n",
      "epoch 116:  loss:  tensor(2.6325, device='cuda:0', grad_fn=<DivBackward0>)\n",
      "epoch 117:  loss:  tensor(2.6305, device='cuda:0', grad_fn=<DivBackward0>)\n",
      "epoch 118:  loss:  tensor(2.6135, device='cuda:0', grad_fn=<DivBackward0>)\n",
      "epoch 119:  loss:  tensor(2.5968, device='cuda:0', grad_fn=<DivBackward0>)\n",
      "epoch 120:  loss:  tensor(2.5981, device='cuda:0', grad_fn=<DivBackward0>)\n",
      "epoch 121:  loss:  tensor(2.5792, device='cuda:0', grad_fn=<DivBackward0>)\n",
      "epoch 122:  loss:  tensor(2.5720, device='cuda:0', grad_fn=<DivBackward0>)\n",
      "epoch 123:  loss:  tensor(2.5624, device='cuda:0', grad_fn=<DivBackward0>)\n",
      "epoch 124:  loss:  tensor(2.5447, device='cuda:0', grad_fn=<DivBackward0>)\n",
      "epoch 125:  loss:  tensor(2.5498, device='cuda:0', grad_fn=<DivBackward0>)\n",
      "epoch 126:  loss:  tensor(2.5421, device='cuda:0', grad_fn=<DivBackward0>)\n",
      "epoch 127:  loss:  tensor(2.5241, device='cuda:0', grad_fn=<DivBackward0>)\n",
      "epoch 128:  loss:  tensor(2.5139, device='cuda:0', grad_fn=<DivBackward0>)\n",
      "epoch 129:  loss:  tensor(2.5066, device='cuda:0', grad_fn=<DivBackward0>)\n",
      "epoch 130:  loss:  tensor(2.4929, device='cuda:0', grad_fn=<DivBackward0>)\n",
      "epoch 131:  loss:  tensor(2.4921, device='cuda:0', grad_fn=<DivBackward0>)\n",
      "epoch 132:  loss:  tensor(2.4704, device='cuda:0', grad_fn=<DivBackward0>)\n",
      "epoch 133:  loss:  tensor(2.4695, device='cuda:0', grad_fn=<DivBackward0>)\n",
      "epoch 134:  loss:  tensor(2.4610, device='cuda:0', grad_fn=<DivBackward0>)\n",
      "epoch 135:  loss:  tensor(2.4433, device='cuda:0', grad_fn=<DivBackward0>)\n",
      "epoch 136:  loss:  tensor(2.4391, device='cuda:0', grad_fn=<DivBackward0>)\n",
      "epoch 137:  loss:  tensor(2.4359, device='cuda:0', grad_fn=<DivBackward0>)\n",
      "epoch 138:  loss:  tensor(2.4267, device='cuda:0', grad_fn=<DivBackward0>)\n",
      "epoch 139:  loss:  tensor(2.4280, device='cuda:0', grad_fn=<DivBackward0>)\n",
      "epoch 140:  loss:  tensor(2.4119, device='cuda:0', grad_fn=<DivBackward0>)\n",
      "epoch 141:  loss:  tensor(2.4118, device='cuda:0', grad_fn=<DivBackward0>)\n",
      "epoch 142:  loss:  tensor(2.3975, device='cuda:0', grad_fn=<DivBackward0>)\n",
      "epoch 143:  loss:  tensor(2.3871, device='cuda:0', grad_fn=<DivBackward0>)\n",
      "epoch 144:  loss:  tensor(2.3954, device='cuda:0', grad_fn=<DivBackward0>)\n",
      "epoch 145:  loss:  tensor(2.3841, device='cuda:0', grad_fn=<DivBackward0>)\n",
      "epoch 146:  loss:  tensor(2.3606, device='cuda:0', grad_fn=<DivBackward0>)\n",
      "epoch 147:  loss:  tensor(2.3675, device='cuda:0', grad_fn=<DivBackward0>)\n",
      "epoch 148:  loss:  tensor(2.3594, device='cuda:0', grad_fn=<DivBackward0>)\n",
      "epoch 149:  loss:  tensor(2.3574, device='cuda:0', grad_fn=<DivBackward0>)\n",
      "epoch 150:  loss:  tensor(2.3506, device='cuda:0', grad_fn=<DivBackward0>)\n"
     ]
    }
   ],
   "source": [
    "n_items = max(df_ordered_cellphone_.itemsId.max()+1, \n",
    "              df_ordered_cellphone_.Next.max()+1\n",
    "             )\n",
    "hidden_size = 512\n",
    "embedding_dim = 256\n",
    "batch_size = 128\n",
    "n_layers = 2\n",
    "loss_func = nn.CrossEntropyLoss()\n",
    "\n",
    "narm_model = narm.NARM(n_items, hidden_size, embedding_dim, batch_size, n_layers).to(device)\n",
    "narm_model.train()\n",
    "optimizer = optim.Adam(narm_model.parameters(), lr = 0.0002)\n",
    "max_len = 5\n",
    "df_train_cellphone_.reset_index(drop=True, inplace=True)\n",
    "for i in range(150):\n",
    "    loss_ = 0\n",
    "    count = 0\n",
    "    for batch in utils.batch_loader(df_train_cellphone_.index.tolist(), 128):\n",
    "        \n",
    "        df_chunk = df_train_cellphone_.loc[batch,:]\n",
    "        \n",
    "        index_ = len_argsort(df_chunk.session.tolist())\n",
    "        \n",
    "        df_chunk.reset_index(drop=True, inplace=True)\n",
    "        df_check = df_chunk.loc[index_,:]\n",
    "        #print(df_check.head())\n",
    "        items_seqs, items_next, items_seqs_len, _ = preprocess.sequence_(df_check,\n",
    "                                                                     item_key='session',\n",
    "                                                                     next_key='label')\n",
    "        items_seqs = utils.to_tensor(items_seqs).T\n",
    "        #print(items_seqs.shape)\n",
    "        items_seqs_len = utils.to_tensor(items_seqs_len).to(torch.device('cpu'))\n",
    "        items_next = utils.to_tensor(items_next)\n",
    "        #print(items_next.shape)\n",
    "        #batch[negative_seqs_name] = neg_next\n",
    "        output = narm_model(items_seqs, items_seqs_len)\n",
    "        loss = loss_func(output, items_next)\n",
    "        loss_+=loss\n",
    "        count+=1\n",
    "        optimizer.zero_grad()\n",
    "        loss.backward()\n",
    "        optimizer.step()\n",
    "    if i>0 and (i+1)%5 == 0:\n",
    "        torch.save(narm_model, os.path.join(model_path, 'NARM_cellphone_{}.pth'.format(i+1)))\n",
    "    print(f'epoch {i+1}: ', 'loss: ', loss_/count)"
   ]
  },
  {
   "cell_type": "code",
   "execution_count": 128,
   "id": "1931350d",
   "metadata": {},
   "outputs": [
    {
     "name": "stdout",
     "output_type": "stream",
     "text": [
      "<class 'pandas.core.frame.DataFrame'>\n",
      "RangeIndex: 90154 entries, 0 to 90153\n",
      "Data columns (total 4 columns):\n",
      " #   Column     Non-Null Count  Dtype\n",
      "---  ------     --------------  -----\n",
      " 0   sessionId  90154 non-null  int64\n",
      " 1   itemsId    90154 non-null  int64\n",
      " 2   Next       90154 non-null  int64\n",
      " 3   orderId    90154 non-null  int64\n",
      "dtypes: int64(4)\n",
      "memory usage: 2.8 MB\n"
     ]
    }
   ],
   "source": [
    "df_ordered_beauty.info()"
   ]
  },
  {
   "cell_type": "code",
   "execution_count": 129,
   "id": "2c3aec46",
   "metadata": {},
   "outputs": [
    {
     "name": "stdout",
     "output_type": "stream",
     "text": [
      "epoch 1:  loss:  tensor(9.7018, device='cuda:0', grad_fn=<DivBackward0>)\n",
      "epoch 2:  loss:  tensor(9.0132, device='cuda:0', grad_fn=<DivBackward0>)\n",
      "epoch 3:  loss:  tensor(8.7306, device='cuda:0', grad_fn=<DivBackward0>)\n",
      "epoch 4:  loss:  tensor(8.5434, device='cuda:0', grad_fn=<DivBackward0>)\n",
      "epoch 5:  loss:  tensor(8.3578, device='cuda:0', grad_fn=<DivBackward0>)\n",
      "epoch 6:  loss:  tensor(8.2025, device='cuda:0', grad_fn=<DivBackward0>)\n",
      "epoch 7:  loss:  tensor(8.0526, device='cuda:0', grad_fn=<DivBackward0>)\n",
      "epoch 8:  loss:  tensor(7.8944, device='cuda:0', grad_fn=<DivBackward0>)\n",
      "epoch 9:  loss:  tensor(7.7583, device='cuda:0', grad_fn=<DivBackward0>)\n",
      "epoch 10:  loss:  tensor(7.6147, device='cuda:0', grad_fn=<DivBackward0>)\n",
      "epoch 11:  loss:  tensor(7.4842, device='cuda:0', grad_fn=<DivBackward0>)\n",
      "epoch 12:  loss:  tensor(7.3450, device='cuda:0', grad_fn=<DivBackward0>)\n",
      "epoch 13:  loss:  tensor(7.2115, device='cuda:0', grad_fn=<DivBackward0>)\n",
      "epoch 14:  loss:  tensor(7.0727, device='cuda:0', grad_fn=<DivBackward0>)\n",
      "epoch 15:  loss:  tensor(6.9336, device='cuda:0', grad_fn=<DivBackward0>)\n",
      "epoch 16:  loss:  tensor(6.8026, device='cuda:0', grad_fn=<DivBackward0>)\n",
      "epoch 17:  loss:  tensor(6.6902, device='cuda:0', grad_fn=<DivBackward0>)\n",
      "epoch 18:  loss:  tensor(6.5710, device='cuda:0', grad_fn=<DivBackward0>)\n",
      "epoch 19:  loss:  tensor(6.4488, device='cuda:0', grad_fn=<DivBackward0>)\n",
      "epoch 20:  loss:  tensor(6.3320, device='cuda:0', grad_fn=<DivBackward0>)\n",
      "epoch 21:  loss:  tensor(6.2163, device='cuda:0', grad_fn=<DivBackward0>)\n",
      "epoch 22:  loss:  tensor(6.1125, device='cuda:0', grad_fn=<DivBackward0>)\n",
      "epoch 23:  loss:  tensor(6.0064, device='cuda:0', grad_fn=<DivBackward0>)\n",
      "epoch 24:  loss:  tensor(5.9008, device='cuda:0', grad_fn=<DivBackward0>)\n",
      "epoch 25:  loss:  tensor(5.7907, device='cuda:0', grad_fn=<DivBackward0>)\n",
      "epoch 26:  loss:  tensor(5.6914, device='cuda:0', grad_fn=<DivBackward0>)\n",
      "epoch 27:  loss:  tensor(5.5904, device='cuda:0', grad_fn=<DivBackward0>)\n",
      "epoch 28:  loss:  tensor(5.4993, device='cuda:0', grad_fn=<DivBackward0>)\n",
      "epoch 29:  loss:  tensor(5.4020, device='cuda:0', grad_fn=<DivBackward0>)\n",
      "epoch 30:  loss:  tensor(5.3271, device='cuda:0', grad_fn=<DivBackward0>)\n",
      "epoch 31:  loss:  tensor(5.2414, device='cuda:0', grad_fn=<DivBackward0>)\n",
      "epoch 32:  loss:  tensor(5.1529, device='cuda:0', grad_fn=<DivBackward0>)\n",
      "epoch 33:  loss:  tensor(5.0851, device='cuda:0', grad_fn=<DivBackward0>)\n",
      "epoch 34:  loss:  tensor(5.0069, device='cuda:0', grad_fn=<DivBackward0>)\n",
      "epoch 35:  loss:  tensor(4.9410, device='cuda:0', grad_fn=<DivBackward0>)\n",
      "epoch 36:  loss:  tensor(4.8560, device='cuda:0', grad_fn=<DivBackward0>)\n",
      "epoch 37:  loss:  tensor(4.7993, device='cuda:0', grad_fn=<DivBackward0>)\n",
      "epoch 38:  loss:  tensor(4.7509, device='cuda:0', grad_fn=<DivBackward0>)\n",
      "epoch 39:  loss:  tensor(4.6800, device='cuda:0', grad_fn=<DivBackward0>)\n",
      "epoch 40:  loss:  tensor(4.6323, device='cuda:0', grad_fn=<DivBackward0>)\n",
      "epoch 41:  loss:  tensor(4.5730, device='cuda:0', grad_fn=<DivBackward0>)\n",
      "epoch 42:  loss:  tensor(4.4986, device='cuda:0', grad_fn=<DivBackward0>)\n",
      "epoch 43:  loss:  tensor(4.4356, device='cuda:0', grad_fn=<DivBackward0>)\n",
      "epoch 44:  loss:  tensor(4.3925, device='cuda:0', grad_fn=<DivBackward0>)\n",
      "epoch 45:  loss:  tensor(4.3334, device='cuda:0', grad_fn=<DivBackward0>)\n",
      "epoch 46:  loss:  tensor(4.2687, device='cuda:0', grad_fn=<DivBackward0>)\n",
      "epoch 47:  loss:  tensor(4.2265, device='cuda:0', grad_fn=<DivBackward0>)\n",
      "epoch 48:  loss:  tensor(4.1658, device='cuda:0', grad_fn=<DivBackward0>)\n",
      "epoch 49:  loss:  tensor(4.1142, device='cuda:0', grad_fn=<DivBackward0>)\n",
      "epoch 50:  loss:  tensor(4.0721, device='cuda:0', grad_fn=<DivBackward0>)\n",
      "epoch 51:  loss:  tensor(4.0188, device='cuda:0', grad_fn=<DivBackward0>)\n",
      "epoch 52:  loss:  tensor(3.9842, device='cuda:0', grad_fn=<DivBackward0>)\n",
      "epoch 53:  loss:  tensor(3.9171, device='cuda:0', grad_fn=<DivBackward0>)\n",
      "epoch 54:  loss:  tensor(3.8775, device='cuda:0', grad_fn=<DivBackward0>)\n",
      "epoch 55:  loss:  tensor(3.8135, device='cuda:0', grad_fn=<DivBackward0>)\n",
      "epoch 56:  loss:  tensor(3.7862, device='cuda:0', grad_fn=<DivBackward0>)\n",
      "epoch 57:  loss:  tensor(3.7499, device='cuda:0', grad_fn=<DivBackward0>)\n",
      "epoch 58:  loss:  tensor(3.7009, device='cuda:0', grad_fn=<DivBackward0>)\n",
      "epoch 59:  loss:  tensor(3.6546, device='cuda:0', grad_fn=<DivBackward0>)\n",
      "epoch 60:  loss:  tensor(3.6095, device='cuda:0', grad_fn=<DivBackward0>)\n",
      "epoch 61:  loss:  tensor(3.5809, device='cuda:0', grad_fn=<DivBackward0>)\n",
      "epoch 62:  loss:  tensor(3.5409, device='cuda:0', grad_fn=<DivBackward0>)\n",
      "epoch 63:  loss:  tensor(3.4977, device='cuda:0', grad_fn=<DivBackward0>)\n",
      "epoch 64:  loss:  tensor(3.4679, device='cuda:0', grad_fn=<DivBackward0>)\n",
      "epoch 65:  loss:  tensor(3.4318, device='cuda:0', grad_fn=<DivBackward0>)\n",
      "epoch 66:  loss:  tensor(3.4061, device='cuda:0', grad_fn=<DivBackward0>)\n",
      "epoch 67:  loss:  tensor(3.3535, device='cuda:0', grad_fn=<DivBackward0>)\n",
      "epoch 68:  loss:  tensor(3.3032, device='cuda:0', grad_fn=<DivBackward0>)\n",
      "epoch 69:  loss:  tensor(3.2771, device='cuda:0', grad_fn=<DivBackward0>)\n",
      "epoch 70:  loss:  tensor(3.2669, device='cuda:0', grad_fn=<DivBackward0>)\n",
      "epoch 71:  loss:  tensor(3.2340, device='cuda:0', grad_fn=<DivBackward0>)\n",
      "epoch 72:  loss:  tensor(3.1947, device='cuda:0', grad_fn=<DivBackward0>)\n",
      "epoch 73:  loss:  tensor(3.1609, device='cuda:0', grad_fn=<DivBackward0>)\n",
      "epoch 74:  loss:  tensor(3.1333, device='cuda:0', grad_fn=<DivBackward0>)\n",
      "epoch 75:  loss:  tensor(3.1070, device='cuda:0', grad_fn=<DivBackward0>)\n",
      "epoch 76:  loss:  tensor(3.0710, device='cuda:0', grad_fn=<DivBackward0>)\n",
      "epoch 77:  loss:  tensor(3.0402, device='cuda:0', grad_fn=<DivBackward0>)\n",
      "epoch 78:  loss:  tensor(3.0111, device='cuda:0', grad_fn=<DivBackward0>)\n",
      "epoch 79:  loss:  tensor(2.9883, device='cuda:0', grad_fn=<DivBackward0>)\n",
      "epoch 80:  loss:  tensor(2.9604, device='cuda:0', grad_fn=<DivBackward0>)\n",
      "epoch 81:  loss:  tensor(2.9369, device='cuda:0', grad_fn=<DivBackward0>)\n",
      "epoch 82:  loss:  tensor(2.9108, device='cuda:0', grad_fn=<DivBackward0>)\n",
      "epoch 83:  loss:  tensor(2.8958, device='cuda:0', grad_fn=<DivBackward0>)\n",
      "epoch 84:  loss:  tensor(2.8642, device='cuda:0', grad_fn=<DivBackward0>)\n",
      "epoch 85:  loss:  tensor(2.8342, device='cuda:0', grad_fn=<DivBackward0>)\n",
      "epoch 86:  loss:  tensor(2.8178, device='cuda:0', grad_fn=<DivBackward0>)\n",
      "epoch 87:  loss:  tensor(2.8058, device='cuda:0', grad_fn=<DivBackward0>)\n",
      "epoch 88:  loss:  tensor(2.7790, device='cuda:0', grad_fn=<DivBackward0>)\n",
      "epoch 89:  loss:  tensor(2.7503, device='cuda:0', grad_fn=<DivBackward0>)\n",
      "epoch 90:  loss:  tensor(2.7269, device='cuda:0', grad_fn=<DivBackward0>)\n",
      "epoch 91:  loss:  tensor(2.7128, device='cuda:0', grad_fn=<DivBackward0>)\n",
      "epoch 92:  loss:  tensor(2.6991, device='cuda:0', grad_fn=<DivBackward0>)\n",
      "epoch 93:  loss:  tensor(2.6739, device='cuda:0', grad_fn=<DivBackward0>)\n",
      "epoch 94:  loss:  tensor(2.6447, device='cuda:0', grad_fn=<DivBackward0>)\n",
      "epoch 95:  loss:  tensor(2.6314, device='cuda:0', grad_fn=<DivBackward0>)\n",
      "epoch 96:  loss:  tensor(2.6295, device='cuda:0', grad_fn=<DivBackward0>)\n",
      "epoch 97:  loss:  tensor(2.6129, device='cuda:0', grad_fn=<DivBackward0>)\n",
      "epoch 98:  loss:  tensor(2.5826, device='cuda:0', grad_fn=<DivBackward0>)\n",
      "epoch 99:  loss:  tensor(2.5712, device='cuda:0', grad_fn=<DivBackward0>)\n",
      "epoch 100:  loss:  tensor(2.5462, device='cuda:0', grad_fn=<DivBackward0>)\n",
      "epoch 101:  loss:  tensor(2.5394, device='cuda:0', grad_fn=<DivBackward0>)\n",
      "epoch 102:  loss:  tensor(2.5202, device='cuda:0', grad_fn=<DivBackward0>)\n",
      "epoch 103:  loss:  tensor(2.5024, device='cuda:0', grad_fn=<DivBackward0>)\n",
      "epoch 104:  loss:  tensor(2.4976, device='cuda:0', grad_fn=<DivBackward0>)\n",
      "epoch 105:  loss:  tensor(2.4773, device='cuda:0', grad_fn=<DivBackward0>)\n",
      "epoch 106:  loss:  tensor(2.4526, device='cuda:0', grad_fn=<DivBackward0>)\n",
      "epoch 107:  loss:  tensor(2.4543, device='cuda:0', grad_fn=<DivBackward0>)\n",
      "epoch 108:  loss:  tensor(2.4292, device='cuda:0', grad_fn=<DivBackward0>)\n",
      "epoch 109:  loss:  tensor(2.4291, device='cuda:0', grad_fn=<DivBackward0>)\n",
      "epoch 110:  loss:  tensor(2.4038, device='cuda:0', grad_fn=<DivBackward0>)\n",
      "epoch 111:  loss:  tensor(2.3737, device='cuda:0', grad_fn=<DivBackward0>)\n"
     ]
    },
    {
     "name": "stdout",
     "output_type": "stream",
     "text": [
      "epoch 112:  loss:  tensor(2.3835, device='cuda:0', grad_fn=<DivBackward0>)\n",
      "epoch 113:  loss:  tensor(2.3642, device='cuda:0', grad_fn=<DivBackward0>)\n",
      "epoch 114:  loss:  tensor(2.3502, device='cuda:0', grad_fn=<DivBackward0>)\n",
      "epoch 115:  loss:  tensor(2.3325, device='cuda:0', grad_fn=<DivBackward0>)\n",
      "epoch 116:  loss:  tensor(2.3272, device='cuda:0', grad_fn=<DivBackward0>)\n",
      "epoch 117:  loss:  tensor(2.3289, device='cuda:0', grad_fn=<DivBackward0>)\n",
      "epoch 118:  loss:  tensor(2.3167, device='cuda:0', grad_fn=<DivBackward0>)\n",
      "epoch 119:  loss:  tensor(2.2984, device='cuda:0', grad_fn=<DivBackward0>)\n",
      "epoch 120:  loss:  tensor(2.2804, device='cuda:0', grad_fn=<DivBackward0>)\n",
      "epoch 121:  loss:  tensor(2.2804, device='cuda:0', grad_fn=<DivBackward0>)\n",
      "epoch 122:  loss:  tensor(2.2663, device='cuda:0', grad_fn=<DivBackward0>)\n",
      "epoch 123:  loss:  tensor(2.2550, device='cuda:0', grad_fn=<DivBackward0>)\n",
      "epoch 124:  loss:  tensor(2.2447, device='cuda:0', grad_fn=<DivBackward0>)\n",
      "epoch 125:  loss:  tensor(2.2361, device='cuda:0', grad_fn=<DivBackward0>)\n",
      "epoch 126:  loss:  tensor(2.2377, device='cuda:0', grad_fn=<DivBackward0>)\n",
      "epoch 127:  loss:  tensor(2.2163, device='cuda:0', grad_fn=<DivBackward0>)\n",
      "epoch 128:  loss:  tensor(2.2169, device='cuda:0', grad_fn=<DivBackward0>)\n",
      "epoch 129:  loss:  tensor(2.1973, device='cuda:0', grad_fn=<DivBackward0>)\n",
      "epoch 130:  loss:  tensor(2.1944, device='cuda:0', grad_fn=<DivBackward0>)\n",
      "epoch 131:  loss:  tensor(2.1916, device='cuda:0', grad_fn=<DivBackward0>)\n",
      "epoch 132:  loss:  tensor(2.1736, device='cuda:0', grad_fn=<DivBackward0>)\n",
      "epoch 133:  loss:  tensor(2.1578, device='cuda:0', grad_fn=<DivBackward0>)\n",
      "epoch 134:  loss:  tensor(2.1687, device='cuda:0', grad_fn=<DivBackward0>)\n",
      "epoch 135:  loss:  tensor(2.1414, device='cuda:0', grad_fn=<DivBackward0>)\n",
      "epoch 136:  loss:  tensor(2.1293, device='cuda:0', grad_fn=<DivBackward0>)\n",
      "epoch 137:  loss:  tensor(2.1247, device='cuda:0', grad_fn=<DivBackward0>)\n",
      "epoch 138:  loss:  tensor(2.1217, device='cuda:0', grad_fn=<DivBackward0>)\n",
      "epoch 139:  loss:  tensor(2.1153, device='cuda:0', grad_fn=<DivBackward0>)\n",
      "epoch 140:  loss:  tensor(2.1012, device='cuda:0', grad_fn=<DivBackward0>)\n",
      "epoch 141:  loss:  tensor(2.0984, device='cuda:0', grad_fn=<DivBackward0>)\n",
      "epoch 142:  loss:  tensor(2.1064, device='cuda:0', grad_fn=<DivBackward0>)\n",
      "epoch 143:  loss:  tensor(2.0836, device='cuda:0', grad_fn=<DivBackward0>)\n",
      "epoch 144:  loss:  tensor(2.0906, device='cuda:0', grad_fn=<DivBackward0>)\n",
      "epoch 145:  loss:  tensor(2.0637, device='cuda:0', grad_fn=<DivBackward0>)\n",
      "epoch 146:  loss:  tensor(2.0698, device='cuda:0', grad_fn=<DivBackward0>)\n",
      "epoch 147:  loss:  tensor(2.0581, device='cuda:0', grad_fn=<DivBackward0>)\n",
      "epoch 148:  loss:  tensor(2.0487, device='cuda:0', grad_fn=<DivBackward0>)\n",
      "epoch 149:  loss:  tensor(2.0553, device='cuda:0', grad_fn=<DivBackward0>)\n",
      "epoch 150:  loss:  tensor(2.0393, device='cuda:0', grad_fn=<DivBackward0>)\n",
      "epoch 151:  loss:  tensor(2.0179, device='cuda:0', grad_fn=<DivBackward0>)\n",
      "epoch 152:  loss:  tensor(2.0197, device='cuda:0', grad_fn=<DivBackward0>)\n",
      "epoch 153:  loss:  tensor(2.0306, device='cuda:0', grad_fn=<DivBackward0>)\n",
      "epoch 154:  loss:  tensor(2.0272, device='cuda:0', grad_fn=<DivBackward0>)\n",
      "epoch 155:  loss:  tensor(2.0160, device='cuda:0', grad_fn=<DivBackward0>)\n",
      "epoch 156:  loss:  tensor(2.0170, device='cuda:0', grad_fn=<DivBackward0>)\n",
      "epoch 157:  loss:  tensor(1.9934, device='cuda:0', grad_fn=<DivBackward0>)\n",
      "epoch 158:  loss:  tensor(2.0021, device='cuda:0', grad_fn=<DivBackward0>)\n",
      "epoch 159:  loss:  tensor(1.9943, device='cuda:0', grad_fn=<DivBackward0>)\n",
      "epoch 160:  loss:  tensor(1.9800, device='cuda:0', grad_fn=<DivBackward0>)\n",
      "epoch 161:  loss:  tensor(1.9644, device='cuda:0', grad_fn=<DivBackward0>)\n",
      "epoch 162:  loss:  tensor(1.9604, device='cuda:0', grad_fn=<DivBackward0>)\n",
      "epoch 163:  loss:  tensor(1.9641, device='cuda:0', grad_fn=<DivBackward0>)\n",
      "epoch 164:  loss:  tensor(1.9659, device='cuda:0', grad_fn=<DivBackward0>)\n",
      "epoch 165:  loss:  tensor(1.9468, device='cuda:0', grad_fn=<DivBackward0>)\n",
      "epoch 166:  loss:  tensor(1.9373, device='cuda:0', grad_fn=<DivBackward0>)\n",
      "epoch 167:  loss:  tensor(1.9442, device='cuda:0', grad_fn=<DivBackward0>)\n",
      "epoch 168:  loss:  tensor(1.9363, device='cuda:0', grad_fn=<DivBackward0>)\n",
      "epoch 169:  loss:  tensor(1.9356, device='cuda:0', grad_fn=<DivBackward0>)\n",
      "epoch 170:  loss:  tensor(1.9371, device='cuda:0', grad_fn=<DivBackward0>)\n",
      "epoch 171:  loss:  tensor(1.9356, device='cuda:0', grad_fn=<DivBackward0>)\n",
      "epoch 172:  loss:  tensor(1.9245, device='cuda:0', grad_fn=<DivBackward0>)\n",
      "epoch 173:  loss:  tensor(1.9224, device='cuda:0', grad_fn=<DivBackward0>)\n",
      "epoch 174:  loss:  tensor(1.9169, device='cuda:0', grad_fn=<DivBackward0>)\n",
      "epoch 175:  loss:  tensor(1.9041, device='cuda:0', grad_fn=<DivBackward0>)\n",
      "epoch 176:  loss:  tensor(1.9117, device='cuda:0', grad_fn=<DivBackward0>)\n",
      "epoch 177:  loss:  tensor(1.8873, device='cuda:0', grad_fn=<DivBackward0>)\n",
      "epoch 178:  loss:  tensor(1.8941, device='cuda:0', grad_fn=<DivBackward0>)\n",
      "epoch 179:  loss:  tensor(1.8985, device='cuda:0', grad_fn=<DivBackward0>)\n",
      "epoch 180:  loss:  tensor(1.8860, device='cuda:0', grad_fn=<DivBackward0>)\n"
     ]
    }
   ],
   "source": [
    "n_items = max(df_ordered_beauty.itemsId.max()+1, \n",
    "              df_ordered_beauty.Next.max()+1\n",
    "             )\n",
    "hidden_size = 512\n",
    "embedding_dim = 256\n",
    "batch_size = 128\n",
    "n_layers = 2\n",
    "loss_func = nn.CrossEntropyLoss()\n",
    "\n",
    "narm_model = narm.NARM(n_items, hidden_size, embedding_dim, batch_size, n_layers).to(device)\n",
    "narm_model.train()\n",
    "optimizer = optim.Adam(narm_model.parameters(), lr = 0.0002)\n",
    "max_len = 5\n",
    "df_beauty.reset_index(drop=True, inplace=True)\n",
    "for i in range(180):\n",
    "    loss_ = 0\n",
    "    count = 0\n",
    "    for batch in utils.batch_loader(df_beauty.index.tolist(), 128):\n",
    "        \n",
    "        df_chunk = df_beauty.loc[batch,:]\n",
    "        \n",
    "        index_ = len_argsort(df_chunk.session.tolist())\n",
    "        \n",
    "        df_chunk.reset_index(drop=True, inplace=True)\n",
    "        df_check = df_chunk.loc[index_,:]\n",
    "        #print(df_check.head())\n",
    "        items_seqs, items_next, items_seqs_len, _ = preprocess.sequence_(df_check,\n",
    "                                                                     item_key='session',\n",
    "                                                                     next_key='label')\n",
    "        items_seqs = utils.to_tensor(items_seqs).T\n",
    "        #print(items_seqs.shape)\n",
    "        items_seqs_len = utils.to_tensor(items_seqs_len).to(torch.device('cpu'))\n",
    "        items_next = utils.to_tensor(items_next)\n",
    "        #print(items_next.shape)\n",
    "        #batch[negative_seqs_name] = neg_next\n",
    "        output = narm_model(items_seqs, items_seqs_len)\n",
    "        loss = loss_func(output, items_next)\n",
    "        loss_+=loss\n",
    "        count+=1\n",
    "        optimizer.zero_grad()\n",
    "        loss.backward()\n",
    "        optimizer.step()\n",
    "    if i>0 and (i+1)%5 == 0:\n",
    "        torch.save(narm_model, os.path.join(model_path, 'NARM_beauty_{}.pth'.format(i+1)))\n",
    "    print(f'epoch {i+1}: ', 'loss: ', loss_/count)"
   ]
  },
  {
   "cell_type": "code",
   "execution_count": 130,
   "id": "c3c19b82",
   "metadata": {},
   "outputs": [],
   "source": [
    "df_cellphhone_test = pd.read_csv(r'./SequentialRecommend01/data/Amazon_Cell/test_sessions.csv')\n",
    "df_beauty_test = pd.read_csv(r'./SequentialRecommend01/data/Amazon_Beauty/test_sessions.csv')"
   ]
  },
  {
   "cell_type": "code",
   "execution_count": 131,
   "id": "67463d49",
   "metadata": {},
   "outputs": [],
   "source": [
    "NARM_cellphone_model = torch.load(r'./SequentialRecommend01/model/NARM_cellphone_150.pth')"
   ]
  },
  {
   "cell_type": "code",
   "execution_count": 132,
   "id": "b37c3bb9",
   "metadata": {},
   "outputs": [],
   "source": [
    "NARM_beauty_model = torch.load(r'./SequentialRecommend01/model/NARM_beauty_180.pth')"
   ]
  },
  {
   "cell_type": "code",
   "execution_count": 133,
   "id": "9c37a1b5",
   "metadata": {},
   "outputs": [],
   "source": [
    "NARM_cellphone_model.eval()\n",
    "sims = 0.0\n",
    "count = 0\n",
    "topk = 20\n",
    "#recalls = []\n",
    "#mrrs = []\n",
    "\n",
    "df_cellphone_all = []\n",
    "with torch.no_grad():\n",
    "    df_cellphhone_test.reset_index(drop=True, inplace=True)\n",
    "    \n",
    "        \n",
    "    for batch in utils.batch_loader(df_cellphhone_test.index.tolist(), 128):\n",
    "\n",
    "        df_chunk = df_cellphhone_test.loc[batch,:]\n",
    "\n",
    "        index_ = len_argsort(df_chunk.session.tolist())\n",
    "        \n",
    "        df_chunk.reset_index(drop=True, inplace=True)\n",
    "        items_seqs, _, items_seqs_len, _ = preprocess.sequence_(df_chunk.loc[index_,:],\n",
    "                                                                     item_key='session',\n",
    "                                                                     next_key='session')\n",
    "        items_seqs = utils.to_tensor(items_seqs).T\n",
    "        #print(items_seqs.shape)\n",
    "        items_seqs_len = utils.to_tensor(items_seqs_len).to(torch.device('cpu'))\n",
    "        #items_next = utils.to_tensor(items_next)\n",
    "        #print(items_next.shape)\n",
    "        #batch[negative_seqs_name] = neg_next\n",
    "        outputs = NARM_cellphone_model(items_seqs, items_seqs_len)\n",
    "        \"\"\"logits = F.softmax(outputs, dim = 1)\n",
    "        #print(logits.shape, items_next.shape)\n",
    "        recall, mrr = metric.evaluate(logits, items_next, k = topk)\n",
    "        recalls.append(recall)\n",
    "        mrrs.append(mrr)\"\"\"\n",
    "        \n",
    "        predicts = outputs.topk(topk)\n",
    "        #print(len(index_), predicts.indices.shape)\n",
    "        \n",
    "        predicts = predicts.indices.cpu().numpy()\n",
    "        predicts = [str(list(predict)) for predict in predicts]\n",
    "        \n",
    "        #df_chunk.loc[index_,'predict']  = np.arange(len(index_))\n",
    "        df_chunk.loc[index_,'predict'] = predicts\n",
    "        df_chunk.loc[index_,'predict']  = df_chunk.predict.astype(str)\n",
    "        df_cellphone_all.append(df_chunk)\n",
    "df_cellphone_all = pd.concat(df_cellphone_all, ignore_index=True).drop_duplicates(keep = 'first')"
   ]
  },
  {
   "cell_type": "code",
   "execution_count": 134,
   "id": "7164db4b",
   "metadata": {},
   "outputs": [
    {
     "name": "stdout",
     "output_type": "stream",
     "text": [
      "3086\n",
      "3915\n"
     ]
    }
   ],
   "source": [
    "print(len(df_cellphone_all))\n",
    "print(len(df_cellphhone_test))"
   ]
  },
  {
   "cell_type": "code",
   "execution_count": 135,
   "id": "c2685988",
   "metadata": {},
   "outputs": [
    {
     "name": "stdout",
     "output_type": "stream",
     "text": [
      "<class 'pandas.core.frame.DataFrame'>\n",
      "Int64Index: 3915 entries, 0 to 3914\n",
      "Data columns (total 2 columns):\n",
      " #   Column   Non-Null Count  Dtype \n",
      "---  ------   --------------  ----- \n",
      " 0   session  3915 non-null   object\n",
      " 1   predict  3915 non-null   object\n",
      "dtypes: object(2)\n",
      "memory usage: 91.8+ KB\n"
     ]
    }
   ],
   "source": [
    "df_cellphhone_test = pd.merge(df_cellphhone_test, df_cellphone_all, how='left', on='session')\n",
    "df_cellphhone_test.info()"
   ]
  },
  {
   "cell_type": "code",
   "execution_count": 136,
   "id": "4ff1a43e",
   "metadata": {},
   "outputs": [
    {
     "data": {
      "text/plain": [
       "0"
      ]
     },
     "execution_count": 136,
     "metadata": {},
     "output_type": "execute_result"
    }
   ],
   "source": [
    "df_cellphhone_test.predict.isnull().sum()"
   ]
  },
  {
   "cell_type": "code",
   "execution_count": 137,
   "id": "b4224e41",
   "metadata": {},
   "outputs": [],
   "source": [
    "NARM_beauty_model.eval()\n",
    "sims = 0.0\n",
    "count = 0\n",
    "topk = 20\n",
    "df_beauty_all = []\n",
    "with torch.no_grad():\n",
    "    df_beauty_test.reset_index(drop=True, inplace=True)\n",
    "    \n",
    "        \n",
    "    for batch in utils.batch_loader(df_beauty_test.index.tolist(), 128):\n",
    "\n",
    "        df_chunk = df_beauty_test.loc[batch,:]\n",
    "\n",
    "        index_ = len_argsort(df_chunk.session.tolist())\n",
    "\n",
    "        df_chunk.reset_index(drop=True, inplace=True)\n",
    "        items_seqs, _, items_seqs_len, _ = preprocess.sequence_(df_chunk.loc[index_,:],\n",
    "                                                                     item_key='session',\n",
    "                                                                     next_key='session')\n",
    "        items_seqs = utils.to_tensor(items_seqs).T\n",
    "        #print(items_seqs.shape)\n",
    "        items_seqs_len = utils.to_tensor(items_seqs_len).to(torch.device('cpu'))\n",
    "        #items_next = utils.to_tensor(items_next)\n",
    "        #print(items_next.shape)\n",
    "        #batch[negative_seqs_name] = neg_next\n",
    "        outputs = NARM_beauty_model(items_seqs, items_seqs_len)\n",
    "        \"\"\"logits = F.softmax(outputs, dim = 1)\n",
    "        #print(logits.shape, items_next.shape)\n",
    "        recall, mrr = metric.evaluate(logits, items_next, k = topk)\n",
    "        recalls.append(recall)\n",
    "        mrrs.append(mrr)\"\"\"\n",
    "        predicts = outputs.topk(topk)\n",
    "        \n",
    "        \n",
    "        predicts = predicts.indices.cpu().numpy()\n",
    "        predicts = [str(list(predict)) for predict in predicts]\n",
    "        \n",
    "        #df_chunk.loc[index_,'predict']  = np.arange(len(index_))\n",
    "        #print(len(index_), len(predicts))\n",
    "        df_chunk.loc[index_,'predict'] = predicts\n",
    "        df_chunk.loc[index_,'predict']  = df_chunk.predict.astype(str)\n",
    "        df_beauty_all.append(df_chunk)\n",
    "df_beauty_all = pd.concat(df_beauty_all, ignore_index=True).drop_duplicates(keep = 'first')"
   ]
  },
  {
   "cell_type": "code",
   "execution_count": 138,
   "id": "411ca644",
   "metadata": {},
   "outputs": [
    {
     "name": "stdout",
     "output_type": "stream",
     "text": [
      "4567\n",
      "5393\n"
     ]
    }
   ],
   "source": [
    "print(len(df_beauty_all))\n",
    "print(len(df_beauty_test))"
   ]
  },
  {
   "cell_type": "code",
   "execution_count": 139,
   "id": "90e9b9b8",
   "metadata": {},
   "outputs": [
    {
     "name": "stdout",
     "output_type": "stream",
     "text": [
      "<class 'pandas.core.frame.DataFrame'>\n",
      "Int64Index: 5393 entries, 0 to 5392\n",
      "Data columns (total 2 columns):\n",
      " #   Column   Non-Null Count  Dtype \n",
      "---  ------   --------------  ----- \n",
      " 0   session  5393 non-null   object\n",
      " 1   predict  5393 non-null   object\n",
      "dtypes: object(2)\n",
      "memory usage: 126.4+ KB\n"
     ]
    }
   ],
   "source": [
    "df_beauty_test = pd.merge(df_beauty_test, df_beauty_all, how='left', on='session')\n",
    "df_beauty_test.info()"
   ]
  },
  {
   "cell_type": "code",
   "execution_count": 140,
   "id": "f05c7712",
   "metadata": {},
   "outputs": [],
   "source": [
    "df_cellphhone_test.to_csv(r'./SequentialRecommend01/data/cellphone_predict.csv', index=False)\n",
    "df_beauty_test.to_csv(r'./SequentialRecommend01/data/beauty_predict.csv', index=False)"
   ]
  },
  {
   "cell_type": "code",
   "execution_count": null,
   "id": "cd7637aa",
   "metadata": {},
   "outputs": [],
   "source": []
  }
 ],
 "metadata": {
  "kernelspec": {
   "display_name": "Python 3",
   "language": "python",
   "name": "python3"
  },
  "language_info": {
   "codemirror_mode": {
    "name": "ipython",
    "version": 3
   },
   "file_extension": ".py",
   "mimetype": "text/x-python",
   "name": "python",
   "nbconvert_exporter": "python",
   "pygments_lexer": "ipython3",
   "version": "3.8.8"
  }
 },
 "nbformat": 4,
 "nbformat_minor": 5
}
